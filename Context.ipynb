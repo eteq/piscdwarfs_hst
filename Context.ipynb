{
 "metadata": {
  "name": "",
  "signature": "sha256:cdd78621005e029e51cb69edd5f8e857a53608815bce68718280e6c879813544"
 },
 "nbformat": 3,
 "nbformat_minor": 0,
 "worksheets": [
  {
   "cells": [
    {
     "cell_type": "code",
     "collapsed": false,
     "input": [
      "from __future__ import division, print_function\n",
      "\n",
      "import cPickle as pickle\n",
      "\n",
      "import numpy as np\n",
      "from scipy.spatial import cKDTree\n",
      "from scipy import stats\n",
      "from IPython import display\n",
      "from IPython.html.widgets import interact\n",
      "\n",
      "from astropy import units as u\n",
      "from astropy import constants as cnst\n",
      "from astropy.coordinates import SkyCoord, Distance\n",
      "\n",
      "from astropy.wcs import WCS\n",
      "from astropy.io import fits, ascii\n",
      "from astropy.table import Table"
     ],
     "language": "python",
     "metadata": {},
     "outputs": [],
     "prompt_number": 140
    },
    {
     "cell_type": "code",
     "collapsed": false,
     "input": [
      "%matplotlib inline\n",
      "\n",
      "from matplotlib import pyplot as plt\n",
      "from matplotlib import rcParams, animation\n",
      "from mpl_toolkits.mplot3d import Axes3D\n",
      "\n",
      "rcParams['figure.figsize'] = (16, 10)\n",
      "rcParams['image.interpolation'] = 'none'\n",
      "rcParams['image.origin'] = 'lower'"
     ],
     "language": "python",
     "metadata": {},
     "outputs": [],
     "prompt_number": 2
    },
    {
     "cell_type": "code",
     "collapsed": false,
     "input": [
      "#previous round\n",
      "#PiscA = SkyCoord('00h14m46s', '+10d48m47.01s', distance=Distance(distmod=np.array([24.59, 24.52, 24.68])+4))\n",
      "#PiscB = SkyCoord('01h19m11.7s', '+11d7m18.22s', distance=Distance(distmod=np.array([25.96, 25.87, 26.07])+4))"
     ],
     "language": "python",
     "metadata": {},
     "outputs": [],
     "prompt_number": 3
    },
    {
     "cell_type": "code",
     "collapsed": false,
     "input": [
      "#distances from MCMC\n",
      "npz = np.load('PiscAB_distances.npz')\n",
      "PiscA_dist = Distance(npz['piscA_dist_Mpc'], u.Mpc)\n",
      "PiscB_dist = Distance(npz['piscB_dist_Mpc'], u.Mpc)\n",
      "\n",
      "PiscA = SkyCoord('00h14m46s', '+10d48m47.01s', distance=Distance(np.percentile(PiscA_dist, [50, 10, 90]), u.Mpc))\n",
      "PiscB = SkyCoord('01h19m11.7s', '+11d7m18.22s', distance=Distance(np.percentile(PiscB_dist, [50, 10, 90]), u.Mpc))"
     ],
     "language": "python",
     "metadata": {},
     "outputs": [],
     "prompt_number": 180
    },
    {
     "cell_type": "code",
     "collapsed": false,
     "input": [
      "#structural parameters - need to define the SersicModel to be able to un-pickle\n",
      "with open('chains_apr9_2015.pckl') as f:\n",
      "    struc_param_dct = pickle.load(f)\n",
      "get_struc_param = lambda chainnm, paramnm: struc_param_dct['chains'+chainnm][:, :, struc_param_dct['param_names'].index(paramnm)].ravel()"
     ],
     "language": "python",
     "metadata": {},
     "outputs": [],
     "prompt_number": 164
    },
    {
     "cell_type": "code",
     "collapsed": false,
     "input": [
      "m31 = SkyCoord(SkyCoord.from_name('M31'), distance=750*u.kpc)"
     ],
     "language": "python",
     "metadata": {},
     "outputs": [],
     "prompt_number": 5
    },
    {
     "cell_type": "code",
     "collapsed": false,
     "input": [
      "#local void-ish direction\n",
      "local_void_sc = SkyCoord('18h38m', '18d', distance=[0,20]*u.Mpc)\n",
      "\n",
      "#Equatorial north/south direction\n",
      "north_sc = SkyCoord(dec=90*u.deg,ra=0*u.deg,frame='icrs', distance=[0,20]*u.Mpc)\n",
      "south_sc = SkyCoord(dec=-90*u.deg,ra=0*u.deg,frame='icrs', distance=[0,20]*u.Mpc)"
     ],
     "language": "python",
     "metadata": {},
     "outputs": [],
     "prompt_number": 6
    },
    {
     "cell_type": "code",
     "collapsed": false,
     "input": [
      "ml = ascii.read('masterlist.csv')"
     ],
     "language": "python",
     "metadata": {},
     "outputs": [],
     "prompt_number": 7
    },
    {
     "cell_type": "code",
     "collapsed": false,
     "input": [
      "msk = (ml['distance']>0)&(ml['distance']<15)\n",
      "mml = ml[msk]\n",
      "mlsc = SkyCoord(mml['RA']*u.deg, mml['Dec']*u.deg, distance=Distance(mml['distance'], u.Mpc))\n",
      "mlcart = mlsc.cartesian\n",
      "mlgcart = mlsc.galactic.cartesian\n",
      "Kabsm = mml['K'] - mlsc.distance.distmod"
     ],
     "language": "python",
     "metadata": {},
     "outputs": [],
     "prompt_number": 8
    },
    {
     "cell_type": "code",
     "collapsed": false,
     "input": [
      "twomasslimit = 13.5*u.mag-Distance(2**0.5*10*u.Mpc).distmod\n",
      "mlgcomplmsk = Kabsm < twomasslimit.value\n",
      "twomasslimit"
     ],
     "language": "python",
     "metadata": {},
     "outputs": [
      {
       "latex": [
        "$-17.252575 \\; \\mathrm{mag}$"
       ],
       "metadata": {},
       "output_type": "pyout",
       "prompt_number": 9,
       "text": [
        "<Quantity -17.252574989159953 mag>"
       ]
      }
     ],
     "prompt_number": 9
    },
    {
     "cell_type": "code",
     "collapsed": false,
     "input": [
      "xyzall = np.concatenate((mlgcart.xyz.T[mlgcomplmsk], \n",
      "                         [PiscA.galactic.cartesian.xyz[:, 0], PiscB.galactic.cartesian.xyz[:, 0]]),\n",
      "                        axis=0).value*u.Mpc\n",
      "\n",
      "kdt = cKDTree(xyzall.value)\n",
      "dkd, idx = kdt.query(kdt.data, 11)\n",
      "d1 = dkd[:, 1]\n",
      "d2 = dkd[:, 2] \n",
      "d5 = dkd[:, 5]\n",
      "d10 = dkd[:, 10]\n",
      "\n",
      "bins = np.linspace(0,10,100)\n",
      "for i, di in enumerate('d1,d2,d5,d10'.split(',')):\n",
      "    plt.subplot(2, 2, i+1)\n",
      "    didat = locals()[di]\n",
      "    plt.hist(didat, bins=bins, histtype='step')\n",
      "    plt.axvline(didat[-1], c='k', ls='--')\n",
      "    plt.axvline(didat[-2], c='k', ls='--')\n",
      "    fmt = (np.percentile(didat, [10,50,90]), didat[-2], didat[-1], stats.percentileofscore(didat, didat[-2]), stats.percentileofscore(didat, didat[-1]))\n",
      "    plt.title(di + '\\n PiscA={1}, PiscB={2}\\np10-50-90={0}\\nPiscA_perc={3}, PiscB_perc={4}'.format(*fmt))\n",
      "    print()\n",
      "plt.tight_layout()"
     ],
     "language": "python",
     "metadata": {},
     "outputs": [
      {
       "output_type": "stream",
       "stream": "stdout",
       "text": [
        "\n",
        "\n",
        "\n"
       ]
      },
      {
       "output_type": "stream",
       "stream": "stdout",
       "text": [
        "\n"
       ]
      },
      {
       "metadata": {},
       "output_type": "display_data",
       "png": "[encoded data removed]",
       "text": [
        "<matplotlib.figure.Figure at 0x10f577c10>"
       ]
      }
     ],
     "prompt_number": 10
    },
    {
     "cell_type": "code",
     "collapsed": false,
     "input": [
      "plt.figure(figsize=(16, 10))\n",
      "\n",
      "colorarr, colorrng, colorlabel = Kabsm[mlgcomplmsk], [-23, twomasslimit.value], '$M_K$'\n",
      "colorarr, colorrng, colorlabel = d5[:-2], [0,6], 'd5'\n",
      "\n",
      "plt.scatter(mlgcart.x[mlgcomplmsk], mlgcart.y[mlgcomplmsk], edgecolor='none', \n",
      "            c=colorarr, s=5,vmin=colorrng[0], vmax=colorrng[1])\n",
      "plt.colorbar().set_label(colorlabel, fontsize=24)\n",
      "plt.scatter(PiscA.galactic.cartesian.x[:1], PiscA.galactic.cartesian.y[:1], color='k')\n",
      "plt.plot(PiscA.galactic.cartesian.x[1:], PiscA.galactic.cartesian.y[1:], color='k')\n",
      "plt.scatter(PiscB.galactic.cartesian.x[:1], PiscB.galactic.cartesian.y[:1], color='k')\n",
      "plt.plot(PiscB.galactic.cartesian.x[1:], PiscB.galactic.cartesian.y[1:], color='k')\n",
      "plt.scatter([m31.galactic.cartesian.x.to(u.Mpc).value, 0], [m31.galactic.cartesian.y.to(u.Mpc).value, 0],c='r')\n",
      "\n",
      "plt.plot(local_void_sc.galactic.cartesian.x, local_void_sc.galactic.cartesian.y, color='k')\n",
      "plt.plot(north_sc.galactic.cartesian.x, north_sc.galactic.cartesian.y, color='b')\n",
      "plt.plot(south_sc.galactic.cartesian.x, south_sc.galactic.cartesian.y, color='r')\n",
      "\n",
      "plt.xlabel(r'$x_{\\rm gal}$ [Mpc]', fontsize=24)\n",
      "plt.ylabel(r'$y_{\\rm gal}$ [Mpc]', fontsize=24)\n",
      "plt.xlim(-10, 10)\n",
      "plt.ylim(-10, 10)\n",
      "plt.tight_layout()\n",
      "\n",
      "plt.figure(figsize=(16, 10))\n",
      "plt.scatter(mlgcart.x[mlgcomplmsk], mlgcart.z[mlgcomplmsk], edgecolor='none', \n",
      "            c=colorarr, s=5, vmin=colorrng[0], vmax=colorrng[1])\n",
      "plt.colorbar().set_label(colorlabel, fontsize=24)\n",
      "plt.scatter(PiscA.galactic.cartesian.x[:1], PiscA.galactic.cartesian.z[:1], color='k')\n",
      "plt.plot(PiscA.galactic.cartesian.x[1:], PiscA.galactic.cartesian.z[1:], color='k')\n",
      "plt.scatter(PiscB.galactic.cartesian.x[:1], PiscB.galactic.cartesian.z[:1], color='k')\n",
      "plt.plot(PiscB.galactic.cartesian.x[1:], PiscB.galactic.cartesian.z[1:], color='k')\n",
      "plt.scatter([m31.galactic.cartesian.x.to(u.Mpc).value, 0], [m31.galactic.cartesian.z.to(u.Mpc).value, 0],c='r')\n",
      "\n",
      "plt.plot(local_void_sc.galactic.cartesian.z, local_void_sc.galactic.cartesian.y, color='k')\n",
      "plt.plot(north_sc.galactic.cartesian.x, north_sc.galactic.cartesian.z, color='b')\n",
      "plt.plot(south_sc.galactic.cartesian.x, south_sc.galactic.cartesian.z, color='r')\n",
      "\n",
      "plt.xlabel(r'$x_{\\rm gal}$ [Mpc]', fontsize=24)\n",
      "plt.ylabel(r'$z_{\\rm gal}$ [Mpc]', fontsize=24)\n",
      "plt.xlim(-10, 10)\n",
      "plt.ylim(-10, 10)\n",
      "plt.tight_layout()"
     ],
     "language": "python",
     "metadata": {},
     "outputs": [
      {
       "metadata": {},
       "output_type": "display_data",
       "png": "[encoded data removed]",
       "text": [
        "<matplotlib.figure.Figure at 0x11393f650>"
       ]
      },
      {
       "metadata": {},
       "output_type": "display_data",
       "png": "[encoded data removed]",
       "text": [
        "<matplotlib.figure.Figure at 0x1156eb350>"
       ]
      }
     ],
     "prompt_number": 98
    },
    {
     "cell_type": "code",
     "collapsed": false,
     "input": [
      "#from Jeremy: color-code by correct gas fraction"
     ],
     "language": "python",
     "metadata": {},
     "outputs": [],
     "prompt_number": 10
    },
    {
     "cell_type": "heading",
     "level": 1,
     "metadata": {},
     "source": [
      "3D plots"
     ]
    },
    {
     "cell_type": "code",
     "collapsed": false,
     "input": [
      "fig = plt.figure(figsize=(15,15))\n",
      "fig.patch.set_alpha(1)\n",
      "ax = fig.add_subplot(111, projection='3d')\n",
      "plt.subplots_adjust(left=0,bottom=0,top=1,right=1, wspace=0, hspace=0)\n",
      "\n",
      "msk10box = (-10<mlgcart.x.value)&(mlgcart.x.value<10)&(-10<mlgcart.y.value)&(mlgcart.y.value<10)&(-10<mlgcart.z.value)&(mlgcart.z.value<10)\n",
      "lgscat = ax.scatter3D(mlgcart.x[msk10box&mlgcomplmsk], mlgcart.y[msk10box&mlgcomplmsk], mlgcart.z[msk10box&mlgcomplmsk], \n",
      "             edgecolor='none', c=Kabsm[msk10box&mlgcomplmsk], s=5,vmin=-23, vmax=twomasslimit.value)\n",
      "#plt.colorbar().set_label('$M_K$', fontsize=24)\n",
      "ax.scatter3D(PiscA.galactic.cartesian.x[:1], PiscA.galactic.cartesian.y[:1], PiscA.galactic.cartesian.z[:1], color='k')\n",
      "ax.plot3D(PiscA.galactic.cartesian.x[1:], PiscA.galactic.cartesian.y[1:], PiscA.galactic.cartesian.z[1:], color='k')\n",
      "ax.scatter3D(PiscB.galactic.cartesian.x[:1], PiscB.galactic.cartesian.y[:1], PiscB.galactic.cartesian.z[:1], color='k')\n",
      "ax.plot3D(PiscB.galactic.cartesian.x[1:], PiscB.galactic.cartesian.y[1:], PiscB.galactic.cartesian.z[1:], color='k')\n",
      "ax.scatter3D([m31.galactic.cartesian.x.to(u.Mpc).value, 0], [m31.galactic.cartesian.y.to(u.Mpc).value, 0],c='r')\n",
      "\n",
      "#ax.plot3D(local_void_sc.galactic.cartesian.x, local_void_sc.galactic.cartesian.y, local_void_sc.galactic.cartesian.z, color='k')\n",
      "#ax.plot3D(north_sc.galactic.cartesian.x, north_sc.galactic.cartesian.y, north_sc.galactic.cartesian.z, color='b')\n",
      "#ax.plot3D(south_sc.galactic.cartesian.x, south_sc.galactic.cartesian.y, south_sc.galactic.cartesian.z, color='r')\n",
      "\n",
      "ax.set_xlim(-10, 10)\n",
      "ax.set_ylim(-10, 10)\n",
      "ax.set_zlim(-10, 10)\n",
      "ax.set_xlabel(r'$x_{\\rm gal}$ [Mpc]', fontsize=24)\n",
      "ax.set_ylabel(r'$y_{\\rm gal}$ [Mpc]', fontsize=24)\n",
      "ax.set_zlabel(r'$z_{\\rm gal}$ [Mpc]', fontsize=24)\n",
      "#plt.colorbar(lgscat).set_label('$M_K$',fontsize=24)\n",
      "plt.tight_layout()\n",
      "\n",
      "#plt.savefig('test.png')\n",
      "\n",
      "@interact(azim=(-180, 180., 1.0), elev=(-90., 90., 1.0))\n",
      "def f(azim=0, elev=0):\n",
      "    ax.azim = azim\n",
      "    ax.elev = elev\n",
      "    display.display(fig)"
     ],
     "language": "python",
     "metadata": {},
     "outputs": [
      {
       "metadata": {},
       "output_type": "display_data",
       "png": "[encoded data removed]",
       "text": [
        "<matplotlib.figure.Figure at 0x10f47b390>"
       ]
      }
     ],
     "prompt_number": 96
    },
    {
     "cell_type": "code",
     "collapsed": false,
     "input": [
      "#use this to save the above as a movie\n",
      "\n",
      "totframes = 600\n",
      "frames_per_segment = totframes/4\n",
      "\n",
      "def animate(i):\n",
      "    if i < frames_per_segment:\n",
      "        j = i\n",
      "        ax.azim = 180*j/frames_per_segment\n",
      "        ax.elev = 0\n",
      "    elif i < frames_per_segment*2:\n",
      "        j = i - frames_per_segment\n",
      "        ax.azim = 180\n",
      "        ax.elev = 60*j/frames_per_segment\n",
      "    elif i < frames_per_segment*3:\n",
      "        j = i - frames_per_segment*2\n",
      "        ax.azim = 180*j/frames_per_segment + 180\n",
      "        ax.elev = 60\n",
      "    else:\n",
      "        j = i - frames_per_segment*3\n",
      "        ax.azim = 360 - .1\n",
      "        ax.elev = 60-60*j/frames_per_segment\n",
      "        \n",
      "    print(i/totframes, end='\\r')\n",
      "\n",
      "# call the animator.  blit=True means only re-draw the parts that have changed.\n",
      "anim = animation.FuncAnimation(fig, animate, frames=totframes, interval=20)\n",
      "anim.save('test.mp4', bitrate=10000)"
     ],
     "language": "python",
     "metadata": {},
     "outputs": [
      {
       "output_type": "stream",
       "stream": "stdout",
       "text": [
        "0.0\r",
        "0.0\r",
        "0.00166666666667"
       ]
      },
      {
       "output_type": "stream",
       "stream": "stdout",
       "text": [
        "\r",
        "0.00333333333333"
       ]
      },
      {
       "output_type": "stream",
       "stream": "stdout",
       "text": [
        "\r",
        "0.005"
       ]
      },
      {
       "output_type": "stream",
       "stream": "stdout",
       "text": [
        "\r",
        "0.00666666666667"
       ]
      },
      {
       "output_type": "stream",
       "stream": "stdout",
       "text": [
        "\r",
        "0.00833333333333"
       ]
      },
      {
       "output_type": "stream",
       "stream": "stdout",
       "text": [
        "\r",
        "0.01"
       ]
      },
      {
       "output_type": "stream",
       "stream": "stdout",
       "text": [
        "\r",
        "0.0116666666667"
       ]
      },
      {
       "output_type": "stream",
       "stream": "stdout",
       "text": [
        "\r",
        "0.0133333333333"
       ]
      },
      {
       "output_type": "stream",
       "stream": "stdout",
       "text": [
        "\r",
        "0.015"
       ]
      },
      {
       "output_type": "stream",
       "stream": "stdout",
       "text": [
        "\r",
        "0.0166666666667"
       ]
      },
      {
       "output_type": "stream",
       "stream": "stdout",
       "text": [
        "\r",
        "0.0183333333333"
       ]
      },
      {
       "output_type": "stream",
       "stream": "stdout",
       "text": [
        "\r",
        "0.02"
       ]
      },
      {
       "output_type": "stream",
       "stream": "stdout",
       "text": [
        "\r",
        "0.0216666666667"
       ]
      },
      {
       "output_type": "stream",
       "stream": "stdout",
       "text": [
        "\r",
        "0.0233333333333"
       ]
      },
      {
       "output_type": "stream",
       "stream": "stdout",
       "text": [
        "\r",
        "0.025"
       ]
      },
      {
       "output_type": "stream",
       "stream": "stdout",
       "text": [
        "\r",
        "0.0266666666667"
       ]
      },
      {
       "output_type": "stream",
       "stream": "stdout",
       "text": [
        "\r",
        "0.0283333333333"
       ]
      },
      {
       "output_type": "stream",
       "stream": "stdout",
       "text": [
        "\r",
        "0.03"
       ]
      },
      {
       "output_type": "stream",
       "stream": "stdout",
       "text": [
        "\r",
        "0.0316666666667"
       ]
      },
      {
       "output_type": "stream",
       "stream": "stdout",
       "text": [
        "\r",
        "0.0333333333333"
       ]
      },
      {
       "output_type": "stream",
       "stream": "stdout",
       "text": [
        "\r",
        "0.035"
       ]
      },
      {
       "output_type": "stream",
       "stream": "stdout",
       "text": [
        "\r",
        "0.0366666666667"
       ]
      },
      {
       "output_type": "stream",
       "stream": "stdout",
       "text": [
        "\r",
        "0.0383333333333"
       ]
      },
      {
       "output_type": "stream",
       "stream": "stdout",
       "text": [
        "\r",
        "0.04"
       ]
      },
      {
       "output_type": "stream",
       "stream": "stdout",
       "text": [
        "\r",
        "0.0416666666667"
       ]
      },
      {
       "output_type": "stream",
       "stream": "stdout",
       "text": [
        "\r",
        "0.0433333333333"
       ]
      },
      {
       "output_type": "stream",
       "stream": "stdout",
       "text": [
        "\r",
        "0.045"
       ]
      },
      {
       "output_type": "stream",
       "stream": "stdout",
       "text": [
        "\r",
        "0.0466666666667"
       ]
      },
      {
       "output_type": "stream",
       "stream": "stdout",
       "text": [
        "\r",
        "0.0483333333333"
       ]
      },
      {
       "output_type": "stream",
       "stream": "stdout",
       "text": [
        "\r",
        "0.05"
       ]
      },
      {
       "output_type": "stream",
       "stream": "stdout",
       "text": [
        "\r",
        "0.0516666666667"
       ]
      },
      {
       "output_type": "stream",
       "stream": "stdout",
       "text": [
        "\r",
        "0.0533333333333"
       ]
      },
      {
       "output_type": "stream",
       "stream": "stdout",
       "text": [
        "\r",
        "0.055"
       ]
      },
      {
       "output_type": "stream",
       "stream": "stdout",
       "text": [
        "\r",
        "0.0566666666667"
       ]
      },
      {
       "output_type": "stream",
       "stream": "stdout",
       "text": [
        "\r",
        "0.0583333333333"
       ]
      },
      {
       "output_type": "stream",
       "stream": "stdout",
       "text": [
        "\r",
        "0.06"
       ]
      },
      {
       "output_type": "stream",
       "stream": "stdout",
       "text": [
        "\r",
        "0.0616666666667"
       ]
      },
      {
       "output_type": "stream",
       "stream": "stdout",
       "text": [
        "\r",
        "0.0633333333333"
       ]
      },
      {
       "output_type": "stream",
       "stream": "stdout",
       "text": [
        "\r",
        "0.065"
       ]
      },
      {
       "output_type": "stream",
       "stream": "stdout",
       "text": [
        "\r",
        "0.0666666666667"
       ]
      },
      {
       "output_type": "stream",
       "stream": "stdout",
       "text": [
        "\r",
        "0.0683333333333"
       ]
      },
      {
       "output_type": "stream",
       "stream": "stdout",
       "text": [
        "\r",
        "0.07"
       ]
      },
      {
       "output_type": "stream",
       "stream": "stdout",
       "text": [
        "\r",
        "0.0716666666667"
       ]
      },
      {
       "output_type": "stream",
       "stream": "stdout",
       "text": [
        "\r",
        "0.0733333333333"
       ]
      },
      {
       "output_type": "stream",
       "stream": "stdout",
       "text": [
        "\r",
        "0.075"
       ]
      },
      {
       "output_type": "stream",
       "stream": "stdout",
       "text": [
        "\r",
        "0.0766666666667"
       ]
      },
      {
       "output_type": "stream",
       "stream": "stdout",
       "text": [
        "\r",
        "0.0783333333333"
       ]
      },
      {
       "output_type": "stream",
       "stream": "stdout",
       "text": [
        "\r",
        "0.08"
       ]
      },
      {
       "output_type": "stream",
       "stream": "stdout",
       "text": [
        "\r",
        "0.0816666666667"
       ]
      },
      {
       "output_type": "stream",
       "stream": "stdout",
       "text": [
        "\r",
        "0.0833333333333"
       ]
      },
      {
       "output_type": "stream",
       "stream": "stdout",
       "text": [
        "\r",
        "0.085"
       ]
      },
      {
       "output_type": "stream",
       "stream": "stdout",
       "text": [
        "\r",
        "0.0866666666667"
       ]
      },
      {
       "output_type": "stream",
       "stream": "stdout",
       "text": [
        "\r",
        "0.0883333333333"
       ]
      },
      {
       "output_type": "stream",
       "stream": "stdout",
       "text": [
        "\r",
        "0.09"
       ]
      },
      {
       "output_type": "stream",
       "stream": "stdout",
       "text": [
        "\r",
        "0.0916666666667"
       ]
      },
      {
       "output_type": "stream",
       "stream": "stdout",
       "text": [
        "\r",
        "0.0933333333333"
       ]
      },
      {
       "output_type": "stream",
       "stream": "stdout",
       "text": [
        "\r",
        "0.095"
       ]
      },
      {
       "output_type": "stream",
       "stream": "stdout",
       "text": [
        "\r",
        "0.0966666666667"
       ]
      },
      {
       "output_type": "stream",
       "stream": "stdout",
       "text": [
        "\r",
        "0.0983333333333"
       ]
      },
      {
       "output_type": "stream",
       "stream": "stdout",
       "text": [
        "\r",
        "0.1"
       ]
      },
      {
       "output_type": "stream",
       "stream": "stdout",
       "text": [
        "\r",
        "0.101666666667"
       ]
      },
      {
       "output_type": "stream",
       "stream": "stdout",
       "text": [
        "\r",
        "0.103333333333"
       ]
      },
      {
       "output_type": "stream",
       "stream": "stdout",
       "text": [
        "\r",
        "0.105"
       ]
      },
      {
       "output_type": "stream",
       "stream": "stdout",
       "text": [
        "\r",
        "0.106666666667"
       ]
      },
      {
       "output_type": "stream",
       "stream": "stdout",
       "text": [
        "\r",
        "0.108333333333"
       ]
      },
      {
       "output_type": "stream",
       "stream": "stdout",
       "text": [
        "\r",
        "0.11"
       ]
      },
      {
       "output_type": "stream",
       "stream": "stdout",
       "text": [
        "\r",
        "0.111666666667"
       ]
      },
      {
       "output_type": "stream",
       "stream": "stdout",
       "text": [
        "\r",
        "0.113333333333"
       ]
      },
      {
       "output_type": "stream",
       "stream": "stdout",
       "text": [
        "\r",
        "0.115"
       ]
      },
      {
       "output_type": "stream",
       "stream": "stdout",
       "text": [
        "\r",
        "0.116666666667"
       ]
      },
      {
       "output_type": "stream",
       "stream": "stdout",
       "text": [
        "\r",
        "0.118333333333"
       ]
      },
      {
       "output_type": "stream",
       "stream": "stdout",
       "text": [
        "\r",
        "0.12"
       ]
      },
      {
       "output_type": "stream",
       "stream": "stdout",
       "text": [
        "\r",
        "0.121666666667"
       ]
      },
      {
       "output_type": "stream",
       "stream": "stdout",
       "text": [
        "\r",
        "0.123333333333"
       ]
      },
      {
       "output_type": "stream",
       "stream": "stdout",
       "text": [
        "\r",
        "0.125"
       ]
      },
      {
       "output_type": "stream",
       "stream": "stdout",
       "text": [
        "\r",
        "0.126666666667"
       ]
      },
      {
       "output_type": "stream",
       "stream": "stdout",
       "text": [
        "\r",
        "0.128333333333"
       ]
      },
      {
       "output_type": "stream",
       "stream": "stdout",
       "text": [
        "\r",
        "0.13"
       ]
      },
      {
       "output_type": "stream",
       "stream": "stdout",
       "text": [
        "\r",
        "0.131666666667"
       ]
      },
      {
       "output_type": "stream",
       "stream": "stdout",
       "text": [
        "\r",
        "0.133333333333"
       ]
      },
      {
       "output_type": "stream",
       "stream": "stdout",
       "text": [
        "\r",
        "0.135"
       ]
      },
      {
       "output_type": "stream",
       "stream": "stdout",
       "text": [
        "\r",
        "0.136666666667"
       ]
      },
      {
       "output_type": "stream",
       "stream": "stdout",
       "text": [
        "\r",
        "0.138333333333"
       ]
      },
      {
       "output_type": "stream",
       "stream": "stdout",
       "text": [
        "\r",
        "0.14"
       ]
      },
      {
       "output_type": "stream",
       "stream": "stdout",
       "text": [
        "\r",
        "0.141666666667"
       ]
      },
      {
       "output_type": "stream",
       "stream": "stdout",
       "text": [
        "\r",
        "0.143333333333"
       ]
      },
      {
       "output_type": "stream",
       "stream": "stdout",
       "text": [
        "\r",
        "0.145"
       ]
      },
      {
       "output_type": "stream",
       "stream": "stdout",
       "text": [
        "\r",
        "0.146666666667"
       ]
      },
      {
       "output_type": "stream",
       "stream": "stdout",
       "text": [
        "\r",
        "0.148333333333"
       ]
      },
      {
       "output_type": "stream",
       "stream": "stdout",
       "text": [
        "\r",
        "0.15"
       ]
      },
      {
       "output_type": "stream",
       "stream": "stdout",
       "text": [
        "\r",
        "0.151666666667"
       ]
      },
      {
       "output_type": "stream",
       "stream": "stdout",
       "text": [
        "\r",
        "0.153333333333"
       ]
      },
      {
       "output_type": "stream",
       "stream": "stdout",
       "text": [
        "\r",
        "0.155"
       ]
      },
      {
       "output_type": "stream",
       "stream": "stdout",
       "text": [
        "\r",
        "0.156666666667"
       ]
      },
      {
       "output_type": "stream",
       "stream": "stdout",
       "text": [
        "\r",
        "0.158333333333"
       ]
      },
      {
       "output_type": "stream",
       "stream": "stdout",
       "text": [
        "\r",
        "0.16"
       ]
      },
      {
       "output_type": "stream",
       "stream": "stdout",
       "text": [
        "\r",
        "0.161666666667"
       ]
      },
      {
       "output_type": "stream",
       "stream": "stdout",
       "text": [
        "\r",
        "0.163333333333"
       ]
      },
      {
       "output_type": "stream",
       "stream": "stdout",
       "text": [
        "\r",
        "0.165"
       ]
      },
      {
       "output_type": "stream",
       "stream": "stdout",
       "text": [
        "\r",
        "0.166666666667"
       ]
      },
      {
       "output_type": "stream",
       "stream": "stdout",
       "text": [
        "\r",
        "0.168333333333"
       ]
      },
      {
       "output_type": "stream",
       "stream": "stdout",
       "text": [
        "\r",
        "0.17"
       ]
      },
      {
       "output_type": "stream",
       "stream": "stdout",
       "text": [
        "\r",
        "0.171666666667"
       ]
      },
      {
       "output_type": "stream",
       "stream": "stdout",
       "text": [
        "\r",
        "0.173333333333"
       ]
      },
      {
       "output_type": "stream",
       "stream": "stdout",
       "text": [
        "\r",
        "0.175"
       ]
      },
      {
       "output_type": "stream",
       "stream": "stdout",
       "text": [
        "\r",
        "0.176666666667"
       ]
      },
      {
       "output_type": "stream",
       "stream": "stdout",
       "text": [
        "\r",
        "0.178333333333"
       ]
      },
      {
       "output_type": "stream",
       "stream": "stdout",
       "text": [
        "\r",
        "0.18"
       ]
      },
      {
       "output_type": "stream",
       "stream": "stdout",
       "text": [
        "\r",
        "0.181666666667"
       ]
      },
      {
       "output_type": "stream",
       "stream": "stdout",
       "text": [
        "\r",
        "0.183333333333"
       ]
      },
      {
       "output_type": "stream",
       "stream": "stdout",
       "text": [
        "\r",
        "0.185"
       ]
      },
      {
       "output_type": "stream",
       "stream": "stdout",
       "text": [
        "\r",
        "0.186666666667"
       ]
      },
      {
       "output_type": "stream",
       "stream": "stdout",
       "text": [
        "\r",
        "0.188333333333"
       ]
      },
      {
       "output_type": "stream",
       "stream": "stdout",
       "text": [
        "\r",
        "0.19"
       ]
      },
      {
       "output_type": "stream",
       "stream": "stdout",
       "text": [
        "\r",
        "0.191666666667"
       ]
      },
      {
       "output_type": "stream",
       "stream": "stdout",
       "text": [
        "\r",
        "0.193333333333"
       ]
      },
      {
       "output_type": "stream",
       "stream": "stdout",
       "text": [
        "\r",
        "0.195"
       ]
      },
      {
       "output_type": "stream",
       "stream": "stdout",
       "text": [
        "\r",
        "0.196666666667"
       ]
      },
      {
       "output_type": "stream",
       "stream": "stdout",
       "text": [
        "\r",
        "0.198333333333"
       ]
      },
      {
       "output_type": "stream",
       "stream": "stdout",
       "text": [
        "\r",
        "0.2"
       ]
      },
      {
       "output_type": "stream",
       "stream": "stdout",
       "text": [
        "\r",
        "0.201666666667"
       ]
      },
      {
       "output_type": "stream",
       "stream": "stdout",
       "text": [
        "\r",
        "0.203333333333"
       ]
      },
      {
       "output_type": "stream",
       "stream": "stdout",
       "text": [
        "\r",
        "0.205"
       ]
      },
      {
       "output_type": "stream",
       "stream": "stdout",
       "text": [
        "\r",
        "0.206666666667"
       ]
      },
      {
       "output_type": "stream",
       "stream": "stdout",
       "text": [
        "\r",
        "0.208333333333"
       ]
      },
      {
       "output_type": "stream",
       "stream": "stdout",
       "text": [
        "\r",
        "0.21"
       ]
      },
      {
       "output_type": "stream",
       "stream": "stdout",
       "text": [
        "\r",
        "0.211666666667"
       ]
      },
      {
       "output_type": "stream",
       "stream": "stdout",
       "text": [
        "\r",
        "0.213333333333"
       ]
      },
      {
       "output_type": "stream",
       "stream": "stdout",
       "text": [
        "\r",
        "0.215"
       ]
      },
      {
       "output_type": "stream",
       "stream": "stdout",
       "text": [
        "\r",
        "0.216666666667"
       ]
      },
      {
       "output_type": "stream",
       "stream": "stdout",
       "text": [
        "\r",
        "0.218333333333"
       ]
      },
      {
       "output_type": "stream",
       "stream": "stdout",
       "text": [
        "\r",
        "0.22"
       ]
      },
      {
       "output_type": "stream",
       "stream": "stdout",
       "text": [
        "\r",
        "0.221666666667"
       ]
      },
      {
       "output_type": "stream",
       "stream": "stdout",
       "text": [
        "\r",
        "0.223333333333"
       ]
      },
      {
       "output_type": "stream",
       "stream": "stdout",
       "text": [
        "\r",
        "0.225"
       ]
      },
      {
       "output_type": "stream",
       "stream": "stdout",
       "text": [
        "\r",
        "0.226666666667"
       ]
      },
      {
       "output_type": "stream",
       "stream": "stdout",
       "text": [
        "\r",
        "0.228333333333"
       ]
      },
      {
       "output_type": "stream",
       "stream": "stdout",
       "text": [
        "\r",
        "0.23"
       ]
      },
      {
       "output_type": "stream",
       "stream": "stdout",
       "text": [
        "\r",
        "0.231666666667"
       ]
      },
      {
       "output_type": "stream",
       "stream": "stdout",
       "text": [
        "\r",
        "0.233333333333"
       ]
      },
      {
       "output_type": "stream",
       "stream": "stdout",
       "text": [
        "\r",
        "0.235"
       ]
      },
      {
       "output_type": "stream",
       "stream": "stdout",
       "text": [
        "\r",
        "0.236666666667"
       ]
      },
      {
       "output_type": "stream",
       "stream": "stdout",
       "text": [
        "\r",
        "0.238333333333"
       ]
      },
      {
       "output_type": "stream",
       "stream": "stdout",
       "text": [
        "\r",
        "0.24"
       ]
      },
      {
       "output_type": "stream",
       "stream": "stdout",
       "text": [
        "\r",
        "0.241666666667"
       ]
      },
      {
       "output_type": "stream",
       "stream": "stdout",
       "text": [
        "\r",
        "0.243333333333"
       ]
      },
      {
       "output_type": "stream",
       "stream": "stdout",
       "text": [
        "\r",
        "0.245"
       ]
      },
      {
       "output_type": "stream",
       "stream": "stdout",
       "text": [
        "\r",
        "0.246666666667"
       ]
      },
      {
       "output_type": "stream",
       "stream": "stdout",
       "text": [
        "\r",
        "0.248333333333"
       ]
      },
      {
       "output_type": "stream",
       "stream": "stdout",
       "text": [
        "\r",
        "0.25"
       ]
      },
      {
       "output_type": "stream",
       "stream": "stdout",
       "text": [
        "\r",
        "0.251666666667"
       ]
      },
      {
       "output_type": "stream",
       "stream": "stdout",
       "text": [
        "\r",
        "0.253333333333"
       ]
      },
      {
       "output_type": "stream",
       "stream": "stdout",
       "text": [
        "\r",
        "0.255"
       ]
      },
      {
       "output_type": "stream",
       "stream": "stdout",
       "text": [
        "\r",
        "0.256666666667"
       ]
      },
      {
       "output_type": "stream",
       "stream": "stdout",
       "text": [
        "\r",
        "0.258333333333"
       ]
      },
      {
       "output_type": "stream",
       "stream": "stdout",
       "text": [
        "\r",
        "0.26"
       ]
      },
      {
       "output_type": "stream",
       "stream": "stdout",
       "text": [
        "\r",
        "0.261666666667"
       ]
      },
      {
       "output_type": "stream",
       "stream": "stdout",
       "text": [
        "\r",
        "0.263333333333"
       ]
      },
      {
       "output_type": "stream",
       "stream": "stdout",
       "text": [
        "\r",
        "0.265"
       ]
      },
      {
       "output_type": "stream",
       "stream": "stdout",
       "text": [
        "\r",
        "0.266666666667"
       ]
      },
      {
       "output_type": "stream",
       "stream": "stdout",
       "text": [
        "\r",
        "0.268333333333"
       ]
      },
      {
       "output_type": "stream",
       "stream": "stdout",
       "text": [
        "\r",
        "0.27"
       ]
      },
      {
       "output_type": "stream",
       "stream": "stdout",
       "text": [
        "\r",
        "0.271666666667"
       ]
      },
      {
       "output_type": "stream",
       "stream": "stdout",
       "text": [
        "\r",
        "0.273333333333"
       ]
      },
      {
       "output_type": "stream",
       "stream": "stdout",
       "text": [
        "\r",
        "0.275"
       ]
      },
      {
       "output_type": "stream",
       "stream": "stdout",
       "text": [
        "\r",
        "0.276666666667"
       ]
      },
      {
       "output_type": "stream",
       "stream": "stdout",
       "text": [
        "\r",
        "0.278333333333"
       ]
      },
      {
       "output_type": "stream",
       "stream": "stdout",
       "text": [
        "\r",
        "0.28"
       ]
      },
      {
       "output_type": "stream",
       "stream": "stdout",
       "text": [
        "\r",
        "0.281666666667"
       ]
      },
      {
       "output_type": "stream",
       "stream": "stdout",
       "text": [
        "\r",
        "0.283333333333"
       ]
      },
      {
       "output_type": "stream",
       "stream": "stdout",
       "text": [
        "\r",
        "0.285"
       ]
      },
      {
       "output_type": "stream",
       "stream": "stdout",
       "text": [
        "\r",
        "0.286666666667"
       ]
      },
      {
       "output_type": "stream",
       "stream": "stdout",
       "text": [
        "\r",
        "0.288333333333"
       ]
      },
      {
       "output_type": "stream",
       "stream": "stdout",
       "text": [
        "\r",
        "0.29"
       ]
      },
      {
       "output_type": "stream",
       "stream": "stdout",
       "text": [
        "\r",
        "0.291666666667"
       ]
      },
      {
       "output_type": "stream",
       "stream": "stdout",
       "text": [
        "\r",
        "0.293333333333"
       ]
      },
      {
       "output_type": "stream",
       "stream": "stdout",
       "text": [
        "\r",
        "0.295"
       ]
      },
      {
       "output_type": "stream",
       "stream": "stdout",
       "text": [
        "\r",
        "0.296666666667"
       ]
      },
      {
       "output_type": "stream",
       "stream": "stdout",
       "text": [
        "\r",
        "0.298333333333"
       ]
      },
      {
       "output_type": "stream",
       "stream": "stdout",
       "text": [
        "\r",
        "0.3"
       ]
      },
      {
       "output_type": "stream",
       "stream": "stdout",
       "text": [
        "\r",
        "0.301666666667"
       ]
      },
      {
       "output_type": "stream",
       "stream": "stdout",
       "text": [
        "\r",
        "0.303333333333"
       ]
      },
      {
       "output_type": "stream",
       "stream": "stdout",
       "text": [
        "\r",
        "0.305"
       ]
      },
      {
       "output_type": "stream",
       "stream": "stdout",
       "text": [
        "\r",
        "0.306666666667"
       ]
      },
      {
       "output_type": "stream",
       "stream": "stdout",
       "text": [
        "\r",
        "0.308333333333"
       ]
      },
      {
       "output_type": "stream",
       "stream": "stdout",
       "text": [
        "\r",
        "0.31"
       ]
      },
      {
       "output_type": "stream",
       "stream": "stdout",
       "text": [
        "\r",
        "0.311666666667"
       ]
      },
      {
       "output_type": "stream",
       "stream": "stdout",
       "text": [
        "\r",
        "0.313333333333"
       ]
      },
      {
       "output_type": "stream",
       "stream": "stdout",
       "text": [
        "\r",
        "0.315"
       ]
      },
      {
       "output_type": "stream",
       "stream": "stdout",
       "text": [
        "\r",
        "0.316666666667"
       ]
      },
      {
       "output_type": "stream",
       "stream": "stdout",
       "text": [
        "\r",
        "0.318333333333"
       ]
      },
      {
       "output_type": "stream",
       "stream": "stdout",
       "text": [
        "\r",
        "0.32"
       ]
      },
      {
       "output_type": "stream",
       "stream": "stdout",
       "text": [
        "\r",
        "0.321666666667"
       ]
      },
      {
       "output_type": "stream",
       "stream": "stdout",
       "text": [
        "\r",
        "0.323333333333"
       ]
      },
      {
       "output_type": "stream",
       "stream": "stdout",
       "text": [
        "\r",
        "0.325"
       ]
      },
      {
       "output_type": "stream",
       "stream": "stdout",
       "text": [
        "\r",
        "0.326666666667"
       ]
      },
      {
       "output_type": "stream",
       "stream": "stdout",
       "text": [
        "\r",
        "0.328333333333"
       ]
      },
      {
       "output_type": "stream",
       "stream": "stdout",
       "text": [
        "\r",
        "0.33"
       ]
      },
      {
       "output_type": "stream",
       "stream": "stdout",
       "text": [
        "\r",
        "0.331666666667"
       ]
      },
      {
       "output_type": "stream",
       "stream": "stdout",
       "text": [
        "\r",
        "0.333333333333"
       ]
      },
      {
       "output_type": "stream",
       "stream": "stdout",
       "text": [
        "\r",
        "0.335"
       ]
      },
      {
       "output_type": "stream",
       "stream": "stdout",
       "text": [
        "\r",
        "0.336666666667"
       ]
      },
      {
       "output_type": "stream",
       "stream": "stdout",
       "text": [
        "\r",
        "0.338333333333"
       ]
      },
      {
       "output_type": "stream",
       "stream": "stdout",
       "text": [
        "\r",
        "0.34"
       ]
      },
      {
       "output_type": "stream",
       "stream": "stdout",
       "text": [
        "\r",
        "0.341666666667"
       ]
      },
      {
       "output_type": "stream",
       "stream": "stdout",
       "text": [
        "\r",
        "0.343333333333"
       ]
      },
      {
       "output_type": "stream",
       "stream": "stdout",
       "text": [
        "\r",
        "0.345"
       ]
      },
      {
       "output_type": "stream",
       "stream": "stdout",
       "text": [
        "\r",
        "0.346666666667"
       ]
      },
      {
       "output_type": "stream",
       "stream": "stdout",
       "text": [
        "\r",
        "0.348333333333"
       ]
      },
      {
       "output_type": "stream",
       "stream": "stdout",
       "text": [
        "\r",
        "0.35"
       ]
      },
      {
       "output_type": "stream",
       "stream": "stdout",
       "text": [
        "\r",
        "0.351666666667"
       ]
      },
      {
       "output_type": "stream",
       "stream": "stdout",
       "text": [
        "\r",
        "0.353333333333"
       ]
      },
      {
       "output_type": "stream",
       "stream": "stdout",
       "text": [
        "\r",
        "0.355"
       ]
      },
      {
       "output_type": "stream",
       "stream": "stdout",
       "text": [
        "\r",
        "0.356666666667"
       ]
      },
      {
       "output_type": "stream",
       "stream": "stdout",
       "text": [
        "\r",
        "0.358333333333"
       ]
      },
      {
       "output_type": "stream",
       "stream": "stdout",
       "text": [
        "\r",
        "0.36"
       ]
      },
      {
       "output_type": "stream",
       "stream": "stdout",
       "text": [
        "\r",
        "0.361666666667"
       ]
      },
      {
       "output_type": "stream",
       "stream": "stdout",
       "text": [
        "\r",
        "0.363333333333"
       ]
      },
      {
       "output_type": "stream",
       "stream": "stdout",
       "text": [
        "\r",
        "0.365"
       ]
      },
      {
       "output_type": "stream",
       "stream": "stdout",
       "text": [
        "\r",
        "0.366666666667"
       ]
      },
      {
       "output_type": "stream",
       "stream": "stdout",
       "text": [
        "\r",
        "0.368333333333"
       ]
      },
      {
       "output_type": "stream",
       "stream": "stdout",
       "text": [
        "\r",
        "0.37"
       ]
      },
      {
       "output_type": "stream",
       "stream": "stdout",
       "text": [
        "\r",
        "0.371666666667"
       ]
      },
      {
       "output_type": "stream",
       "stream": "stdout",
       "text": [
        "\r",
        "0.373333333333"
       ]
      },
      {
       "output_type": "stream",
       "stream": "stdout",
       "text": [
        "\r",
        "0.375"
       ]
      },
      {
       "output_type": "stream",
       "stream": "stdout",
       "text": [
        "\r",
        "0.376666666667"
       ]
      },
      {
       "output_type": "stream",
       "stream": "stdout",
       "text": [
        "\r",
        "0.378333333333"
       ]
      },
      {
       "output_type": "stream",
       "stream": "stdout",
       "text": [
        "\r",
        "0.38"
       ]
      },
      {
       "output_type": "stream",
       "stream": "stdout",
       "text": [
        "\r",
        "0.381666666667"
       ]
      },
      {
       "output_type": "stream",
       "stream": "stdout",
       "text": [
        "\r",
        "0.383333333333"
       ]
      },
      {
       "output_type": "stream",
       "stream": "stdout",
       "text": [
        "\r",
        "0.385"
       ]
      },
      {
       "output_type": "stream",
       "stream": "stdout",
       "text": [
        "\r",
        "0.386666666667"
       ]
      },
      {
       "output_type": "stream",
       "stream": "stdout",
       "text": [
        "\r",
        "0.388333333333"
       ]
      },
      {
       "output_type": "stream",
       "stream": "stdout",
       "text": [
        "\r",
        "0.39"
       ]
      },
      {
       "output_type": "stream",
       "stream": "stdout",
       "text": [
        "\r",
        "0.391666666667"
       ]
      },
      {
       "output_type": "stream",
       "stream": "stdout",
       "text": [
        "\r",
        "0.393333333333"
       ]
      },
      {
       "output_type": "stream",
       "stream": "stdout",
       "text": [
        "\r",
        "0.395"
       ]
      },
      {
       "output_type": "stream",
       "stream": "stdout",
       "text": [
        "\r",
        "0.396666666667"
       ]
      },
      {
       "output_type": "stream",
       "stream": "stdout",
       "text": [
        "\r",
        "0.398333333333"
       ]
      },
      {
       "output_type": "stream",
       "stream": "stdout",
       "text": [
        "\r",
        "0.4"
       ]
      },
      {
       "output_type": "stream",
       "stream": "stdout",
       "text": [
        "\r",
        "0.401666666667"
       ]
      },
      {
       "output_type": "stream",
       "stream": "stdout",
       "text": [
        "\r",
        "0.403333333333"
       ]
      },
      {
       "output_type": "stream",
       "stream": "stdout",
       "text": [
        "\r",
        "0.405"
       ]
      },
      {
       "output_type": "stream",
       "stream": "stdout",
       "text": [
        "\r",
        "0.406666666667"
       ]
      },
      {
       "output_type": "stream",
       "stream": "stdout",
       "text": [
        "\r",
        "0.408333333333"
       ]
      },
      {
       "output_type": "stream",
       "stream": "stdout",
       "text": [
        "\r",
        "0.41"
       ]
      },
      {
       "output_type": "stream",
       "stream": "stdout",
       "text": [
        "\r",
        "0.411666666667"
       ]
      },
      {
       "output_type": "stream",
       "stream": "stdout",
       "text": [
        "\r",
        "0.413333333333"
       ]
      },
      {
       "output_type": "stream",
       "stream": "stdout",
       "text": [
        "\r",
        "0.415"
       ]
      },
      {
       "output_type": "stream",
       "stream": "stdout",
       "text": [
        "\r",
        "0.416666666667"
       ]
      },
      {
       "output_type": "stream",
       "stream": "stdout",
       "text": [
        "\r",
        "0.418333333333"
       ]
      },
      {
       "output_type": "stream",
       "stream": "stdout",
       "text": [
        "\r",
        "0.42"
       ]
      },
      {
       "output_type": "stream",
       "stream": "stdout",
       "text": [
        "\r",
        "0.421666666667"
       ]
      },
      {
       "output_type": "stream",
       "stream": "stdout",
       "text": [
        "\r",
        "0.423333333333"
       ]
      },
      {
       "output_type": "stream",
       "stream": "stdout",
       "text": [
        "\r",
        "0.425"
       ]
      },
      {
       "output_type": "stream",
       "stream": "stdout",
       "text": [
        "\r",
        "0.426666666667"
       ]
      },
      {
       "output_type": "stream",
       "stream": "stdout",
       "text": [
        "\r",
        "0.428333333333"
       ]
      },
      {
       "output_type": "stream",
       "stream": "stdout",
       "text": [
        "\r",
        "0.43"
       ]
      },
      {
       "output_type": "stream",
       "stream": "stdout",
       "text": [
        "\r",
        "0.431666666667"
       ]
      },
      {
       "output_type": "stream",
       "stream": "stdout",
       "text": [
        "\r",
        "0.433333333333"
       ]
      },
      {
       "output_type": "stream",
       "stream": "stdout",
       "text": [
        "\r",
        "0.435"
       ]
      },
      {
       "output_type": "stream",
       "stream": "stdout",
       "text": [
        "\r",
        "0.436666666667"
       ]
      },
      {
       "output_type": "stream",
       "stream": "stdout",
       "text": [
        "\r",
        "0.438333333333"
       ]
      },
      {
       "output_type": "stream",
       "stream": "stdout",
       "text": [
        "\r",
        "0.44"
       ]
      },
      {
       "output_type": "stream",
       "stream": "stdout",
       "text": [
        "\r",
        "0.441666666667"
       ]
      },
      {
       "output_type": "stream",
       "stream": "stdout",
       "text": [
        "\r",
        "0.443333333333"
       ]
      },
      {
       "output_type": "stream",
       "stream": "stdout",
       "text": [
        "\r",
        "0.445"
       ]
      },
      {
       "output_type": "stream",
       "stream": "stdout",
       "text": [
        "\r",
        "0.446666666667"
       ]
      },
      {
       "output_type": "stream",
       "stream": "stdout",
       "text": [
        "\r",
        "0.448333333333"
       ]
      },
      {
       "output_type": "stream",
       "stream": "stdout",
       "text": [
        "\r",
        "0.45"
       ]
      },
      {
       "output_type": "stream",
       "stream": "stdout",
       "text": [
        "\r",
        "0.451666666667"
       ]
      },
      {
       "output_type": "stream",
       "stream": "stdout",
       "text": [
        "\r",
        "0.453333333333"
       ]
      },
      {
       "output_type": "stream",
       "stream": "stdout",
       "text": [
        "\r",
        "0.455"
       ]
      },
      {
       "output_type": "stream",
       "stream": "stdout",
       "text": [
        "\r",
        "0.456666666667"
       ]
      },
      {
       "output_type": "stream",
       "stream": "stdout",
       "text": [
        "\r",
        "0.458333333333"
       ]
      },
      {
       "output_type": "stream",
       "stream": "stdout",
       "text": [
        "\r",
        "0.46"
       ]
      },
      {
       "output_type": "stream",
       "stream": "stdout",
       "text": [
        "\r",
        "0.461666666667"
       ]
      },
      {
       "output_type": "stream",
       "stream": "stdout",
       "text": [
        "\r",
        "0.463333333333"
       ]
      },
      {
       "output_type": "stream",
       "stream": "stdout",
       "text": [
        "\r",
        "0.465"
       ]
      },
      {
       "output_type": "stream",
       "stream": "stdout",
       "text": [
        "\r",
        "0.466666666667"
       ]
      },
      {
       "output_type": "stream",
       "stream": "stdout",
       "text": [
        "\r",
        "0.468333333333"
       ]
      },
      {
       "output_type": "stream",
       "stream": "stdout",
       "text": [
        "\r",
        "0.47"
       ]
      },
      {
       "output_type": "stream",
       "stream": "stdout",
       "text": [
        "\r",
        "0.471666666667"
       ]
      },
      {
       "output_type": "stream",
       "stream": "stdout",
       "text": [
        "\r",
        "0.473333333333"
       ]
      },
      {
       "output_type": "stream",
       "stream": "stdout",
       "text": [
        "\r",
        "0.475"
       ]
      },
      {
       "output_type": "stream",
       "stream": "stdout",
       "text": [
        "\r",
        "0.476666666667"
       ]
      },
      {
       "output_type": "stream",
       "stream": "stdout",
       "text": [
        "\r",
        "0.478333333333"
       ]
      },
      {
       "output_type": "stream",
       "stream": "stdout",
       "text": [
        "\r",
        "0.48"
       ]
      },
      {
       "output_type": "stream",
       "stream": "stdout",
       "text": [
        "\r",
        "0.481666666667"
       ]
      },
      {
       "output_type": "stream",
       "stream": "stdout",
       "text": [
        "\r",
        "0.483333333333"
       ]
      },
      {
       "output_type": "stream",
       "stream": "stdout",
       "text": [
        "\r",
        "0.485"
       ]
      },
      {
       "output_type": "stream",
       "stream": "stdout",
       "text": [
        "\r",
        "0.486666666667"
       ]
      },
      {
       "output_type": "stream",
       "stream": "stdout",
       "text": [
        "\r",
        "0.488333333333"
       ]
      },
      {
       "output_type": "stream",
       "stream": "stdout",
       "text": [
        "\r",
        "0.49"
       ]
      },
      {
       "output_type": "stream",
       "stream": "stdout",
       "text": [
        "\r",
        "0.491666666667"
       ]
      },
      {
       "output_type": "stream",
       "stream": "stdout",
       "text": [
        "\r",
        "0.493333333333"
       ]
      },
      {
       "output_type": "stream",
       "stream": "stdout",
       "text": [
        "\r",
        "0.495"
       ]
      },
      {
       "output_type": "stream",
       "stream": "stdout",
       "text": [
        "\r",
        "0.496666666667"
       ]
      },
      {
       "output_type": "stream",
       "stream": "stdout",
       "text": [
        "\r",
        "0.498333333333"
       ]
      },
      {
       "output_type": "stream",
       "stream": "stdout",
       "text": [
        "\r",
        "0.5"
       ]
      },
      {
       "output_type": "stream",
       "stream": "stdout",
       "text": [
        "\r",
        "0.501666666667"
       ]
      },
      {
       "output_type": "stream",
       "stream": "stdout",
       "text": [
        "\r",
        "0.503333333333"
       ]
      },
      {
       "output_type": "stream",
       "stream": "stdout",
       "text": [
        "\r",
        "0.505"
       ]
      },
      {
       "output_type": "stream",
       "stream": "stdout",
       "text": [
        "\r",
        "0.506666666667"
       ]
      },
      {
       "output_type": "stream",
       "stream": "stdout",
       "text": [
        "\r",
        "0.508333333333"
       ]
      },
      {
       "output_type": "stream",
       "stream": "stdout",
       "text": [
        "\r",
        "0.51"
       ]
      },
      {
       "output_type": "stream",
       "stream": "stdout",
       "text": [
        "\r",
        "0.511666666667"
       ]
      },
      {
       "output_type": "stream",
       "stream": "stdout",
       "text": [
        "\r",
        "0.513333333333"
       ]
      },
      {
       "output_type": "stream",
       "stream": "stdout",
       "text": [
        "\r",
        "0.515"
       ]
      },
      {
       "output_type": "stream",
       "stream": "stdout",
       "text": [
        "\r",
        "0.516666666667"
       ]
      },
      {
       "output_type": "stream",
       "stream": "stdout",
       "text": [
        "\r",
        "0.518333333333"
       ]
      },
      {
       "output_type": "stream",
       "stream": "stdout",
       "text": [
        "\r",
        "0.52"
       ]
      },
      {
       "output_type": "stream",
       "stream": "stdout",
       "text": [
        "\r",
        "0.521666666667"
       ]
      },
      {
       "output_type": "stream",
       "stream": "stdout",
       "text": [
        "\r",
        "0.523333333333"
       ]
      },
      {
       "output_type": "stream",
       "stream": "stdout",
       "text": [
        "\r",
        "0.525"
       ]
      },
      {
       "output_type": "stream",
       "stream": "stdout",
       "text": [
        "\r",
        "0.526666666667"
       ]
      },
      {
       "output_type": "stream",
       "stream": "stdout",
       "text": [
        "\r",
        "0.528333333333"
       ]
      },
      {
       "output_type": "stream",
       "stream": "stdout",
       "text": [
        "\r",
        "0.53"
       ]
      },
      {
       "output_type": "stream",
       "stream": "stdout",
       "text": [
        "\r",
        "0.531666666667"
       ]
      },
      {
       "output_type": "stream",
       "stream": "stdout",
       "text": [
        "\r",
        "0.533333333333"
       ]
      },
      {
       "output_type": "stream",
       "stream": "stdout",
       "text": [
        "\r",
        "0.535"
       ]
      },
      {
       "output_type": "stream",
       "stream": "stdout",
       "text": [
        "\r",
        "0.536666666667"
       ]
      },
      {
       "output_type": "stream",
       "stream": "stdout",
       "text": [
        "\r",
        "0.538333333333"
       ]
      },
      {
       "output_type": "stream",
       "stream": "stdout",
       "text": [
        "\r",
        "0.54"
       ]
      },
      {
       "output_type": "stream",
       "stream": "stdout",
       "text": [
        "\r",
        "0.541666666667"
       ]
      },
      {
       "output_type": "stream",
       "stream": "stdout",
       "text": [
        "\r",
        "0.543333333333"
       ]
      },
      {
       "output_type": "stream",
       "stream": "stdout",
       "text": [
        "\r",
        "0.545"
       ]
      },
      {
       "output_type": "stream",
       "stream": "stdout",
       "text": [
        "\r",
        "0.546666666667"
       ]
      },
      {
       "output_type": "stream",
       "stream": "stdout",
       "text": [
        "\r",
        "0.548333333333"
       ]
      },
      {
       "output_type": "stream",
       "stream": "stdout",
       "text": [
        "\r",
        "0.55"
       ]
      },
      {
       "output_type": "stream",
       "stream": "stdout",
       "text": [
        "\r",
        "0.551666666667"
       ]
      },
      {
       "output_type": "stream",
       "stream": "stdout",
       "text": [
        "\r",
        "0.553333333333"
       ]
      },
      {
       "output_type": "stream",
       "stream": "stdout",
       "text": [
        "\r",
        "0.555"
       ]
      },
      {
       "output_type": "stream",
       "stream": "stdout",
       "text": [
        "\r",
        "0.556666666667"
       ]
      },
      {
       "output_type": "stream",
       "stream": "stdout",
       "text": [
        "\r",
        "0.558333333333"
       ]
      },
      {
       "output_type": "stream",
       "stream": "stdout",
       "text": [
        "\r",
        "0.56"
       ]
      },
      {
       "output_type": "stream",
       "stream": "stdout",
       "text": [
        "\r",
        "0.561666666667"
       ]
      },
      {
       "output_type": "stream",
       "stream": "stdout",
       "text": [
        "\r",
        "0.563333333333"
       ]
      },
      {
       "output_type": "stream",
       "stream": "stdout",
       "text": [
        "\r",
        "0.565"
       ]
      },
      {
       "output_type": "stream",
       "stream": "stdout",
       "text": [
        "\r",
        "0.566666666667"
       ]
      },
      {
       "output_type": "stream",
       "stream": "stdout",
       "text": [
        "\r",
        "0.568333333333"
       ]
      },
      {
       "output_type": "stream",
       "stream": "stdout",
       "text": [
        "\r",
        "0.57"
       ]
      },
      {
       "output_type": "stream",
       "stream": "stdout",
       "text": [
        "\r",
        "0.571666666667"
       ]
      },
      {
       "output_type": "stream",
       "stream": "stdout",
       "text": [
        "\r",
        "0.573333333333"
       ]
      },
      {
       "output_type": "stream",
       "stream": "stdout",
       "text": [
        "\r",
        "0.575"
       ]
      },
      {
       "output_type": "stream",
       "stream": "stdout",
       "text": [
        "\r",
        "0.576666666667"
       ]
      },
      {
       "output_type": "stream",
       "stream": "stdout",
       "text": [
        "\r",
        "0.578333333333"
       ]
      },
      {
       "output_type": "stream",
       "stream": "stdout",
       "text": [
        "\r",
        "0.58"
       ]
      },
      {
       "output_type": "stream",
       "stream": "stdout",
       "text": [
        "\r",
        "0.581666666667"
       ]
      },
      {
       "output_type": "stream",
       "stream": "stdout",
       "text": [
        "\r",
        "0.583333333333"
       ]
      },
      {
       "output_type": "stream",
       "stream": "stdout",
       "text": [
        "\r",
        "0.585"
       ]
      },
      {
       "output_type": "stream",
       "stream": "stdout",
       "text": [
        "\r",
        "0.586666666667"
       ]
      },
      {
       "output_type": "stream",
       "stream": "stdout",
       "text": [
        "\r",
        "0.588333333333"
       ]
      },
      {
       "output_type": "stream",
       "stream": "stdout",
       "text": [
        "\r",
        "0.59"
       ]
      },
      {
       "output_type": "stream",
       "stream": "stdout",
       "text": [
        "\r",
        "0.591666666667"
       ]
      },
      {
       "output_type": "stream",
       "stream": "stdout",
       "text": [
        "\r",
        "0.593333333333"
       ]
      },
      {
       "output_type": "stream",
       "stream": "stdout",
       "text": [
        "\r",
        "0.595"
       ]
      },
      {
       "output_type": "stream",
       "stream": "stdout",
       "text": [
        "\r",
        "0.596666666667"
       ]
      },
      {
       "output_type": "stream",
       "stream": "stdout",
       "text": [
        "\r",
        "0.598333333333"
       ]
      },
      {
       "output_type": "stream",
       "stream": "stdout",
       "text": [
        "\r",
        "0.6"
       ]
      },
      {
       "output_type": "stream",
       "stream": "stdout",
       "text": [
        "\r",
        "0.601666666667"
       ]
      },
      {
       "output_type": "stream",
       "stream": "stdout",
       "text": [
        "\r",
        "0.603333333333"
       ]
      },
      {
       "output_type": "stream",
       "stream": "stdout",
       "text": [
        "\r",
        "0.605"
       ]
      },
      {
       "output_type": "stream",
       "stream": "stdout",
       "text": [
        "\r",
        "0.606666666667"
       ]
      },
      {
       "output_type": "stream",
       "stream": "stdout",
       "text": [
        "\r",
        "0.608333333333"
       ]
      },
      {
       "output_type": "stream",
       "stream": "stdout",
       "text": [
        "\r",
        "0.61"
       ]
      },
      {
       "output_type": "stream",
       "stream": "stdout",
       "text": [
        "\r",
        "0.611666666667"
       ]
      },
      {
       "output_type": "stream",
       "stream": "stdout",
       "text": [
        "\r",
        "0.613333333333"
       ]
      },
      {
       "output_type": "stream",
       "stream": "stdout",
       "text": [
        "\r",
        "0.615"
       ]
      },
      {
       "output_type": "stream",
       "stream": "stdout",
       "text": [
        "\r",
        "0.616666666667"
       ]
      },
      {
       "output_type": "stream",
       "stream": "stdout",
       "text": [
        "\r",
        "0.618333333333"
       ]
      },
      {
       "output_type": "stream",
       "stream": "stdout",
       "text": [
        "\r",
        "0.62"
       ]
      },
      {
       "output_type": "stream",
       "stream": "stdout",
       "text": [
        "\r",
        "0.621666666667"
       ]
      },
      {
       "output_type": "stream",
       "stream": "stdout",
       "text": [
        "\r",
        "0.623333333333"
       ]
      },
      {
       "output_type": "stream",
       "stream": "stdout",
       "text": [
        "\r",
        "0.625"
       ]
      },
      {
       "output_type": "stream",
       "stream": "stdout",
       "text": [
        "\r",
        "0.626666666667"
       ]
      },
      {
       "output_type": "stream",
       "stream": "stdout",
       "text": [
        "\r",
        "0.628333333333"
       ]
      },
      {
       "output_type": "stream",
       "stream": "stdout",
       "text": [
        "\r",
        "0.63"
       ]
      },
      {
       "output_type": "stream",
       "stream": "stdout",
       "text": [
        "\r",
        "0.631666666667"
       ]
      },
      {
       "output_type": "stream",
       "stream": "stdout",
       "text": [
        "\r",
        "0.633333333333"
       ]
      },
      {
       "output_type": "stream",
       "stream": "stdout",
       "text": [
        "\r",
        "0.635"
       ]
      },
      {
       "output_type": "stream",
       "stream": "stdout",
       "text": [
        "\r",
        "0.636666666667"
       ]
      },
      {
       "output_type": "stream",
       "stream": "stdout",
       "text": [
        "\r",
        "0.638333333333"
       ]
      },
      {
       "output_type": "stream",
       "stream": "stdout",
       "text": [
        "\r",
        "0.64"
       ]
      },
      {
       "output_type": "stream",
       "stream": "stdout",
       "text": [
        "\r",
        "0.641666666667"
       ]
      },
      {
       "output_type": "stream",
       "stream": "stdout",
       "text": [
        "\r",
        "0.643333333333"
       ]
      },
      {
       "output_type": "stream",
       "stream": "stdout",
       "text": [
        "\r",
        "0.645"
       ]
      },
      {
       "output_type": "stream",
       "stream": "stdout",
       "text": [
        "\r",
        "0.646666666667"
       ]
      },
      {
       "output_type": "stream",
       "stream": "stdout",
       "text": [
        "\r",
        "0.648333333333"
       ]
      },
      {
       "output_type": "stream",
       "stream": "stdout",
       "text": [
        "\r",
        "0.65"
       ]
      },
      {
       "output_type": "stream",
       "stream": "stdout",
       "text": [
        "\r",
        "0.651666666667"
       ]
      },
      {
       "output_type": "stream",
       "stream": "stdout",
       "text": [
        "\r",
        "0.653333333333"
       ]
      },
      {
       "output_type": "stream",
       "stream": "stdout",
       "text": [
        "\r",
        "0.655"
       ]
      },
      {
       "output_type": "stream",
       "stream": "stdout",
       "text": [
        "\r",
        "0.656666666667"
       ]
      },
      {
       "output_type": "stream",
       "stream": "stdout",
       "text": [
        "\r",
        "0.658333333333"
       ]
      },
      {
       "output_type": "stream",
       "stream": "stdout",
       "text": [
        "\r",
        "0.66"
       ]
      },
      {
       "output_type": "stream",
       "stream": "stdout",
       "text": [
        "\r",
        "0.661666666667"
       ]
      },
      {
       "output_type": "stream",
       "stream": "stdout",
       "text": [
        "\r",
        "0.663333333333"
       ]
      },
      {
       "output_type": "stream",
       "stream": "stdout",
       "text": [
        "\r",
        "0.665"
       ]
      },
      {
       "output_type": "stream",
       "stream": "stdout",
       "text": [
        "\r",
        "0.666666666667"
       ]
      },
      {
       "output_type": "stream",
       "stream": "stdout",
       "text": [
        "\r",
        "0.668333333333"
       ]
      },
      {
       "output_type": "stream",
       "stream": "stdout",
       "text": [
        "\r",
        "0.67"
       ]
      },
      {
       "output_type": "stream",
       "stream": "stdout",
       "text": [
        "\r",
        "0.671666666667"
       ]
      },
      {
       "output_type": "stream",
       "stream": "stdout",
       "text": [
        "\r",
        "0.673333333333"
       ]
      },
      {
       "output_type": "stream",
       "stream": "stdout",
       "text": [
        "\r",
        "0.675"
       ]
      },
      {
       "output_type": "stream",
       "stream": "stdout",
       "text": [
        "\r",
        "0.676666666667"
       ]
      },
      {
       "output_type": "stream",
       "stream": "stdout",
       "text": [
        "\r",
        "0.678333333333"
       ]
      },
      {
       "output_type": "stream",
       "stream": "stdout",
       "text": [
        "\r",
        "0.68"
       ]
      },
      {
       "output_type": "stream",
       "stream": "stdout",
       "text": [
        "\r",
        "0.681666666667"
       ]
      },
      {
       "output_type": "stream",
       "stream": "stdout",
       "text": [
        "\r",
        "0.683333333333"
       ]
      },
      {
       "output_type": "stream",
       "stream": "stdout",
       "text": [
        "\r",
        "0.685"
       ]
      },
      {
       "output_type": "stream",
       "stream": "stdout",
       "text": [
        "\r",
        "0.686666666667"
       ]
      },
      {
       "output_type": "stream",
       "stream": "stdout",
       "text": [
        "\r",
        "0.688333333333"
       ]
      },
      {
       "output_type": "stream",
       "stream": "stdout",
       "text": [
        "\r",
        "0.69"
       ]
      },
      {
       "output_type": "stream",
       "stream": "stdout",
       "text": [
        "\r",
        "0.691666666667"
       ]
      },
      {
       "output_type": "stream",
       "stream": "stdout",
       "text": [
        "\r",
        "0.693333333333"
       ]
      },
      {
       "output_type": "stream",
       "stream": "stdout",
       "text": [
        "\r",
        "0.695"
       ]
      },
      {
       "output_type": "stream",
       "stream": "stdout",
       "text": [
        "\r",
        "0.696666666667"
       ]
      },
      {
       "output_type": "stream",
       "stream": "stdout",
       "text": [
        "\r",
        "0.698333333333"
       ]
      },
      {
       "output_type": "stream",
       "stream": "stdout",
       "text": [
        "\r",
        "0.7"
       ]
      },
      {
       "output_type": "stream",
       "stream": "stdout",
       "text": [
        "\r",
        "0.701666666667"
       ]
      },
      {
       "output_type": "stream",
       "stream": "stdout",
       "text": [
        "\r",
        "0.703333333333"
       ]
      },
      {
       "output_type": "stream",
       "stream": "stdout",
       "text": [
        "\r",
        "0.705"
       ]
      },
      {
       "output_type": "stream",
       "stream": "stdout",
       "text": [
        "\r",
        "0.706666666667"
       ]
      },
      {
       "output_type": "stream",
       "stream": "stdout",
       "text": [
        "\r",
        "0.708333333333"
       ]
      },
      {
       "output_type": "stream",
       "stream": "stdout",
       "text": [
        "\r",
        "0.71"
       ]
      },
      {
       "output_type": "stream",
       "stream": "stdout",
       "text": [
        "\r",
        "0.711666666667"
       ]
      },
      {
       "output_type": "stream",
       "stream": "stdout",
       "text": [
        "\r",
        "0.713333333333"
       ]
      },
      {
       "output_type": "stream",
       "stream": "stdout",
       "text": [
        "\r",
        "0.715"
       ]
      },
      {
       "output_type": "stream",
       "stream": "stdout",
       "text": [
        "\r",
        "0.716666666667"
       ]
      },
      {
       "output_type": "stream",
       "stream": "stdout",
       "text": [
        "\r",
        "0.718333333333"
       ]
      },
      {
       "output_type": "stream",
       "stream": "stdout",
       "text": [
        "\r",
        "0.72"
       ]
      },
      {
       "output_type": "stream",
       "stream": "stdout",
       "text": [
        "\r",
        "0.721666666667"
       ]
      },
      {
       "output_type": "stream",
       "stream": "stdout",
       "text": [
        "\r",
        "0.723333333333"
       ]
      },
      {
       "output_type": "stream",
       "stream": "stdout",
       "text": [
        "\r",
        "0.725"
       ]
      },
      {
       "output_type": "stream",
       "stream": "stdout",
       "text": [
        "\r",
        "0.726666666667"
       ]
      },
      {
       "output_type": "stream",
       "stream": "stdout",
       "text": [
        "\r",
        "0.728333333333"
       ]
      },
      {
       "output_type": "stream",
       "stream": "stdout",
       "text": [
        "\r",
        "0.73"
       ]
      },
      {
       "output_type": "stream",
       "stream": "stdout",
       "text": [
        "\r",
        "0.731666666667"
       ]
      },
      {
       "output_type": "stream",
       "stream": "stdout",
       "text": [
        "\r",
        "0.733333333333"
       ]
      },
      {
       "output_type": "stream",
       "stream": "stdout",
       "text": [
        "\r",
        "0.735"
       ]
      },
      {
       "output_type": "stream",
       "stream": "stdout",
       "text": [
        "\r",
        "0.736666666667"
       ]
      },
      {
       "output_type": "stream",
       "stream": "stdout",
       "text": [
        "\r",
        "0.738333333333"
       ]
      },
      {
       "output_type": "stream",
       "stream": "stdout",
       "text": [
        "\r",
        "0.74"
       ]
      },
      {
       "output_type": "stream",
       "stream": "stdout",
       "text": [
        "\r",
        "0.741666666667"
       ]
      },
      {
       "output_type": "stream",
       "stream": "stdout",
       "text": [
        "\r",
        "0.743333333333"
       ]
      },
      {
       "output_type": "stream",
       "stream": "stdout",
       "text": [
        "\r",
        "0.745"
       ]
      },
      {
       "output_type": "stream",
       "stream": "stdout",
       "text": [
        "\r",
        "0.746666666667"
       ]
      },
      {
       "output_type": "stream",
       "stream": "stdout",
       "text": [
        "\r",
        "0.748333333333"
       ]
      },
      {
       "output_type": "stream",
       "stream": "stdout",
       "text": [
        "\r",
        "0.75"
       ]
      },
      {
       "output_type": "stream",
       "stream": "stdout",
       "text": [
        "\r",
        "0.751666666667"
       ]
      },
      {
       "output_type": "stream",
       "stream": "stdout",
       "text": [
        "\r",
        "0.753333333333"
       ]
      },
      {
       "output_type": "stream",
       "stream": "stdout",
       "text": [
        "\r",
        "0.755"
       ]
      },
      {
       "output_type": "stream",
       "stream": "stdout",
       "text": [
        "\r",
        "0.756666666667"
       ]
      },
      {
       "output_type": "stream",
       "stream": "stdout",
       "text": [
        "\r",
        "0.758333333333"
       ]
      },
      {
       "output_type": "stream",
       "stream": "stdout",
       "text": [
        "\r",
        "0.76"
       ]
      },
      {
       "output_type": "stream",
       "stream": "stdout",
       "text": [
        "\r",
        "0.761666666667"
       ]
      },
      {
       "output_type": "stream",
       "stream": "stdout",
       "text": [
        "\r",
        "0.763333333333"
       ]
      },
      {
       "output_type": "stream",
       "stream": "stdout",
       "text": [
        "\r",
        "0.765"
       ]
      },
      {
       "output_type": "stream",
       "stream": "stdout",
       "text": [
        "\r",
        "0.766666666667"
       ]
      },
      {
       "output_type": "stream",
       "stream": "stdout",
       "text": [
        "\r",
        "0.768333333333"
       ]
      },
      {
       "output_type": "stream",
       "stream": "stdout",
       "text": [
        "\r",
        "0.77"
       ]
      },
      {
       "output_type": "stream",
       "stream": "stdout",
       "text": [
        "\r",
        "0.771666666667"
       ]
      },
      {
       "output_type": "stream",
       "stream": "stdout",
       "text": [
        "\r",
        "0.773333333333"
       ]
      },
      {
       "output_type": "stream",
       "stream": "stdout",
       "text": [
        "\r",
        "0.775"
       ]
      },
      {
       "output_type": "stream",
       "stream": "stdout",
       "text": [
        "\r",
        "0.776666666667"
       ]
      },
      {
       "output_type": "stream",
       "stream": "stdout",
       "text": [
        "\r",
        "0.778333333333"
       ]
      },
      {
       "output_type": "stream",
       "stream": "stdout",
       "text": [
        "\r",
        "0.78"
       ]
      },
      {
       "output_type": "stream",
       "stream": "stdout",
       "text": [
        "\r",
        "0.781666666667"
       ]
      },
      {
       "output_type": "stream",
       "stream": "stdout",
       "text": [
        "\r",
        "0.783333333333"
       ]
      },
      {
       "output_type": "stream",
       "stream": "stdout",
       "text": [
        "\r",
        "0.785"
       ]
      },
      {
       "output_type": "stream",
       "stream": "stdout",
       "text": [
        "\r",
        "0.786666666667"
       ]
      },
      {
       "output_type": "stream",
       "stream": "stdout",
       "text": [
        "\r",
        "0.788333333333"
       ]
      },
      {
       "output_type": "stream",
       "stream": "stdout",
       "text": [
        "\r",
        "0.79"
       ]
      },
      {
       "output_type": "stream",
       "stream": "stdout",
       "text": [
        "\r",
        "0.791666666667"
       ]
      },
      {
       "output_type": "stream",
       "stream": "stdout",
       "text": [
        "\r",
        "0.793333333333"
       ]
      },
      {
       "output_type": "stream",
       "stream": "stdout",
       "text": [
        "\r",
        "0.795"
       ]
      },
      {
       "output_type": "stream",
       "stream": "stdout",
       "text": [
        "\r",
        "0.796666666667"
       ]
      },
      {
       "output_type": "stream",
       "stream": "stdout",
       "text": [
        "\r",
        "0.798333333333"
       ]
      },
      {
       "output_type": "stream",
       "stream": "stdout",
       "text": [
        "\r",
        "0.8"
       ]
      },
      {
       "output_type": "stream",
       "stream": "stdout",
       "text": [
        "\r",
        "0.801666666667"
       ]
      },
      {
       "output_type": "stream",
       "stream": "stdout",
       "text": [
        "\r",
        "0.803333333333"
       ]
      },
      {
       "output_type": "stream",
       "stream": "stdout",
       "text": [
        "\r",
        "0.805"
       ]
      },
      {
       "output_type": "stream",
       "stream": "stdout",
       "text": [
        "\r",
        "0.806666666667"
       ]
      },
      {
       "output_type": "stream",
       "stream": "stdout",
       "text": [
        "\r",
        "0.808333333333"
       ]
      },
      {
       "output_type": "stream",
       "stream": "stdout",
       "text": [
        "\r",
        "0.81"
       ]
      },
      {
       "output_type": "stream",
       "stream": "stdout",
       "text": [
        "\r",
        "0.811666666667"
       ]
      },
      {
       "output_type": "stream",
       "stream": "stdout",
       "text": [
        "\r",
        "0.813333333333"
       ]
      },
      {
       "output_type": "stream",
       "stream": "stdout",
       "text": [
        "\r",
        "0.815"
       ]
      },
      {
       "output_type": "stream",
       "stream": "stdout",
       "text": [
        "\r",
        "0.816666666667"
       ]
      },
      {
       "output_type": "stream",
       "stream": "stdout",
       "text": [
        "\r",
        "0.818333333333"
       ]
      },
      {
       "output_type": "stream",
       "stream": "stdout",
       "text": [
        "\r",
        "0.82"
       ]
      },
      {
       "output_type": "stream",
       "stream": "stdout",
       "text": [
        "\r",
        "0.821666666667"
       ]
      },
      {
       "output_type": "stream",
       "stream": "stdout",
       "text": [
        "\r",
        "0.823333333333"
       ]
      },
      {
       "output_type": "stream",
       "stream": "stdout",
       "text": [
        "\r",
        "0.825"
       ]
      },
      {
       "output_type": "stream",
       "stream": "stdout",
       "text": [
        "\r",
        "0.826666666667"
       ]
      },
      {
       "output_type": "stream",
       "stream": "stdout",
       "text": [
        "\r",
        "0.828333333333"
       ]
      },
      {
       "output_type": "stream",
       "stream": "stdout",
       "text": [
        "\r",
        "0.83"
       ]
      },
      {
       "output_type": "stream",
       "stream": "stdout",
       "text": [
        "\r",
        "0.831666666667"
       ]
      },
      {
       "output_type": "stream",
       "stream": "stdout",
       "text": [
        "\r",
        "0.833333333333"
       ]
      },
      {
       "output_type": "stream",
       "stream": "stdout",
       "text": [
        "\r",
        "0.835"
       ]
      },
      {
       "output_type": "stream",
       "stream": "stdout",
       "text": [
        "\r",
        "0.836666666667"
       ]
      },
      {
       "output_type": "stream",
       "stream": "stdout",
       "text": [
        "\r",
        "0.838333333333"
       ]
      },
      {
       "output_type": "stream",
       "stream": "stdout",
       "text": [
        "\r",
        "0.84"
       ]
      },
      {
       "output_type": "stream",
       "stream": "stdout",
       "text": [
        "\r",
        "0.841666666667"
       ]
      },
      {
       "output_type": "stream",
       "stream": "stdout",
       "text": [
        "\r",
        "0.843333333333"
       ]
      },
      {
       "output_type": "stream",
       "stream": "stdout",
       "text": [
        "\r",
        "0.845"
       ]
      },
      {
       "output_type": "stream",
       "stream": "stdout",
       "text": [
        "\r",
        "0.846666666667"
       ]
      },
      {
       "output_type": "stream",
       "stream": "stdout",
       "text": [
        "\r",
        "0.848333333333"
       ]
      },
      {
       "output_type": "stream",
       "stream": "stdout",
       "text": [
        "\r",
        "0.85"
       ]
      },
      {
       "output_type": "stream",
       "stream": "stdout",
       "text": [
        "\r",
        "0.851666666667"
       ]
      },
      {
       "output_type": "stream",
       "stream": "stdout",
       "text": [
        "\r",
        "0.853333333333"
       ]
      },
      {
       "output_type": "stream",
       "stream": "stdout",
       "text": [
        "\r",
        "0.855"
       ]
      },
      {
       "output_type": "stream",
       "stream": "stdout",
       "text": [
        "\r",
        "0.856666666667"
       ]
      },
      {
       "output_type": "stream",
       "stream": "stdout",
       "text": [
        "\r",
        "0.858333333333"
       ]
      },
      {
       "output_type": "stream",
       "stream": "stdout",
       "text": [
        "\r",
        "0.86"
       ]
      },
      {
       "output_type": "stream",
       "stream": "stdout",
       "text": [
        "\r",
        "0.861666666667"
       ]
      },
      {
       "output_type": "stream",
       "stream": "stdout",
       "text": [
        "\r",
        "0.863333333333"
       ]
      },
      {
       "output_type": "stream",
       "stream": "stdout",
       "text": [
        "\r",
        "0.865"
       ]
      },
      {
       "output_type": "stream",
       "stream": "stdout",
       "text": [
        "\r",
        "0.866666666667"
       ]
      },
      {
       "output_type": "stream",
       "stream": "stdout",
       "text": [
        "\r",
        "0.868333333333"
       ]
      },
      {
       "output_type": "stream",
       "stream": "stdout",
       "text": [
        "\r",
        "0.87"
       ]
      },
      {
       "output_type": "stream",
       "stream": "stdout",
       "text": [
        "\r",
        "0.871666666667"
       ]
      },
      {
       "output_type": "stream",
       "stream": "stdout",
       "text": [
        "\r",
        "0.873333333333"
       ]
      },
      {
       "output_type": "stream",
       "stream": "stdout",
       "text": [
        "\r",
        "0.875"
       ]
      },
      {
       "output_type": "stream",
       "stream": "stdout",
       "text": [
        "\r",
        "0.876666666667"
       ]
      },
      {
       "output_type": "stream",
       "stream": "stdout",
       "text": [
        "\r",
        "0.878333333333"
       ]
      },
      {
       "output_type": "stream",
       "stream": "stdout",
       "text": [
        "\r",
        "0.88"
       ]
      },
      {
       "output_type": "stream",
       "stream": "stdout",
       "text": [
        "\r",
        "0.881666666667"
       ]
      },
      {
       "output_type": "stream",
       "stream": "stdout",
       "text": [
        "\r",
        "0.883333333333"
       ]
      },
      {
       "output_type": "stream",
       "stream": "stdout",
       "text": [
        "\r",
        "0.885"
       ]
      },
      {
       "output_type": "stream",
       "stream": "stdout",
       "text": [
        "\r",
        "0.886666666667"
       ]
      },
      {
       "output_type": "stream",
       "stream": "stdout",
       "text": [
        "\r",
        "0.888333333333"
       ]
      },
      {
       "output_type": "stream",
       "stream": "stdout",
       "text": [
        "\r",
        "0.89"
       ]
      },
      {
       "output_type": "stream",
       "stream": "stdout",
       "text": [
        "\r",
        "0.891666666667"
       ]
      },
      {
       "output_type": "stream",
       "stream": "stdout",
       "text": [
        "\r",
        "0.893333333333"
       ]
      },
      {
       "output_type": "stream",
       "stream": "stdout",
       "text": [
        "\r",
        "0.895"
       ]
      },
      {
       "output_type": "stream",
       "stream": "stdout",
       "text": [
        "\r",
        "0.896666666667"
       ]
      },
      {
       "output_type": "stream",
       "stream": "stdout",
       "text": [
        "\r",
        "0.898333333333"
       ]
      },
      {
       "output_type": "stream",
       "stream": "stdout",
       "text": [
        "\r",
        "0.9"
       ]
      },
      {
       "output_type": "stream",
       "stream": "stdout",
       "text": [
        "\r",
        "0.901666666667"
       ]
      },
      {
       "output_type": "stream",
       "stream": "stdout",
       "text": [
        "\r",
        "0.903333333333"
       ]
      },
      {
       "output_type": "stream",
       "stream": "stdout",
       "text": [
        "\r",
        "0.905"
       ]
      },
      {
       "output_type": "stream",
       "stream": "stdout",
       "text": [
        "\r",
        "0.906666666667"
       ]
      },
      {
       "output_type": "stream",
       "stream": "stdout",
       "text": [
        "\r",
        "0.908333333333"
       ]
      },
      {
       "output_type": "stream",
       "stream": "stdout",
       "text": [
        "\r",
        "0.91"
       ]
      },
      {
       "output_type": "stream",
       "stream": "stdout",
       "text": [
        "\r",
        "0.911666666667"
       ]
      },
      {
       "output_type": "stream",
       "stream": "stdout",
       "text": [
        "\r",
        "0.913333333333"
       ]
      },
      {
       "output_type": "stream",
       "stream": "stdout",
       "text": [
        "\r",
        "0.915"
       ]
      },
      {
       "output_type": "stream",
       "stream": "stdout",
       "text": [
        "\r",
        "0.916666666667"
       ]
      },
      {
       "output_type": "stream",
       "stream": "stdout",
       "text": [
        "\r",
        "0.918333333333"
       ]
      },
      {
       "output_type": "stream",
       "stream": "stdout",
       "text": [
        "\r",
        "0.92"
       ]
      },
      {
       "output_type": "stream",
       "stream": "stdout",
       "text": [
        "\r",
        "0.921666666667"
       ]
      },
      {
       "output_type": "stream",
       "stream": "stdout",
       "text": [
        "\r",
        "0.923333333333"
       ]
      },
      {
       "output_type": "stream",
       "stream": "stdout",
       "text": [
        "\r",
        "0.925"
       ]
      },
      {
       "output_type": "stream",
       "stream": "stdout",
       "text": [
        "\r",
        "0.926666666667"
       ]
      },
      {
       "output_type": "stream",
       "stream": "stdout",
       "text": [
        "\r",
        "0.928333333333"
       ]
      },
      {
       "output_type": "stream",
       "stream": "stdout",
       "text": [
        "\r",
        "0.93"
       ]
      },
      {
       "output_type": "stream",
       "stream": "stdout",
       "text": [
        "\r",
        "0.931666666667"
       ]
      },
      {
       "output_type": "stream",
       "stream": "stdout",
       "text": [
        "\r",
        "0.933333333333"
       ]
      },
      {
       "output_type": "stream",
       "stream": "stdout",
       "text": [
        "\r",
        "0.935"
       ]
      },
      {
       "output_type": "stream",
       "stream": "stdout",
       "text": [
        "\r",
        "0.936666666667"
       ]
      },
      {
       "output_type": "stream",
       "stream": "stdout",
       "text": [
        "\r",
        "0.938333333333"
       ]
      },
      {
       "output_type": "stream",
       "stream": "stdout",
       "text": [
        "\r",
        "0.94"
       ]
      },
      {
       "output_type": "stream",
       "stream": "stdout",
       "text": [
        "\r",
        "0.941666666667"
       ]
      },
      {
       "output_type": "stream",
       "stream": "stdout",
       "text": [
        "\r",
        "0.943333333333"
       ]
      },
      {
       "output_type": "stream",
       "stream": "stdout",
       "text": [
        "\r",
        "0.945"
       ]
      },
      {
       "output_type": "stream",
       "stream": "stdout",
       "text": [
        "\r",
        "0.946666666667"
       ]
      },
      {
       "output_type": "stream",
       "stream": "stdout",
       "text": [
        "\r",
        "0.948333333333"
       ]
      },
      {
       "output_type": "stream",
       "stream": "stdout",
       "text": [
        "\r",
        "0.95"
       ]
      },
      {
       "output_type": "stream",
       "stream": "stdout",
       "text": [
        "\r",
        "0.951666666667"
       ]
      },
      {
       "output_type": "stream",
       "stream": "stdout",
       "text": [
        "\r",
        "0.953333333333"
       ]
      },
      {
       "output_type": "stream",
       "stream": "stdout",
       "text": [
        "\r",
        "0.955"
       ]
      },
      {
       "output_type": "stream",
       "stream": "stdout",
       "text": [
        "\r",
        "0.956666666667"
       ]
      },
      {
       "output_type": "stream",
       "stream": "stdout",
       "text": [
        "\r",
        "0.958333333333"
       ]
      },
      {
       "output_type": "stream",
       "stream": "stdout",
       "text": [
        "\r",
        "0.96"
       ]
      },
      {
       "output_type": "stream",
       "stream": "stdout",
       "text": [
        "\r",
        "0.961666666667"
       ]
      },
      {
       "output_type": "stream",
       "stream": "stdout",
       "text": [
        "\r",
        "0.963333333333"
       ]
      },
      {
       "output_type": "stream",
       "stream": "stdout",
       "text": [
        "\r",
        "0.965"
       ]
      },
      {
       "output_type": "stream",
       "stream": "stdout",
       "text": [
        "\r",
        "0.966666666667"
       ]
      },
      {
       "output_type": "stream",
       "stream": "stdout",
       "text": [
        "\r",
        "0.968333333333"
       ]
      },
      {
       "output_type": "stream",
       "stream": "stdout",
       "text": [
        "\r",
        "0.97"
       ]
      },
      {
       "output_type": "stream",
       "stream": "stdout",
       "text": [
        "\r",
        "0.971666666667"
       ]
      },
      {
       "output_type": "stream",
       "stream": "stdout",
       "text": [
        "\r",
        "0.973333333333"
       ]
      },
      {
       "output_type": "stream",
       "stream": "stdout",
       "text": [
        "\r",
        "0.975"
       ]
      },
      {
       "output_type": "stream",
       "stream": "stdout",
       "text": [
        "\r",
        "0.976666666667"
       ]
      },
      {
       "output_type": "stream",
       "stream": "stdout",
       "text": [
        "\r",
        "0.978333333333"
       ]
      },
      {
       "output_type": "stream",
       "stream": "stdout",
       "text": [
        "\r",
        "0.98"
       ]
      },
      {
       "output_type": "stream",
       "stream": "stdout",
       "text": [
        "\r",
        "0.981666666667"
       ]
      },
      {
       "output_type": "stream",
       "stream": "stdout",
       "text": [
        "\r",
        "0.983333333333"
       ]
      },
      {
       "output_type": "stream",
       "stream": "stdout",
       "text": [
        "\r",
        "0.985"
       ]
      },
      {
       "output_type": "stream",
       "stream": "stdout",
       "text": [
        "\r",
        "0.986666666667"
       ]
      },
      {
       "output_type": "stream",
       "stream": "stdout",
       "text": [
        "\r",
        "0.988333333333"
       ]
      },
      {
       "output_type": "stream",
       "stream": "stdout",
       "text": [
        "\r",
        "0.99"
       ]
      },
      {
       "output_type": "stream",
       "stream": "stdout",
       "text": [
        "\r",
        "0.991666666667"
       ]
      },
      {
       "output_type": "stream",
       "stream": "stdout",
       "text": [
        "\r",
        "0.993333333333"
       ]
      },
      {
       "output_type": "stream",
       "stream": "stdout",
       "text": [
        "\r",
        "0.995"
       ]
      },
      {
       "output_type": "stream",
       "stream": "stdout",
       "text": [
        "\r",
        "0.996666666667"
       ]
      },
      {
       "output_type": "stream",
       "stream": "stdout",
       "text": [
        "\r",
        "0.998333333333"
       ]
      },
      {
       "output_type": "stream",
       "stream": "stdout",
       "text": [
        "\r"
       ]
      }
     ],
     "prompt_number": 94
    },
    {
     "cell_type": "heading",
     "level": 1,
     "metadata": {},
     "source": [
      "R/MV plot"
     ]
    },
    {
     "cell_type": "heading",
     "level": 2,
     "metadata": {},
     "source": [
      "Other data sets"
     ]
    },
    {
     "cell_type": "code",
     "collapsed": false,
     "input": [
      "import nearbygals\n",
      "\n",
      "ngtab = nearbygals.get_table('/Users/erik/astrodata/mcconn12_nearbydwarfs/NearbyGalaxies.dat', dropmw=False)\n",
      "\n",
      "mw = SkyCoord(l=0*u.deg,b=0*u.deg, distance=8.5*u.kpc, frame='galactic').icrs\n",
      "m31 = ngtab[ngtab['name']=='Andromeda']['center'][0]\n",
      "\n",
      "m31d = np.array([m31.separation_3d(c).kpc for c in ngtab['center']])\n",
      "mwd = np.array([mw.separation_3d(c).kpc for c in ngtab['center']])\n",
      "mwd[0] = 0 #The MW itself\n",
      "m31closer = m31d < mwd\n",
      "\n",
      "ds = ngtab['distance'].copy()\n",
      "vhs = ngtab['vh']\n",
      "vabs = ngtab['Vabs']\n",
      "ds[m31closer] = m31d[m31closer]\n",
      "ds[~m31closer] = mwd[~m31closer]"
     ],
     "language": "python",
     "metadata": {},
     "outputs": [],
     "prompt_number": 111
    },
    {
     "cell_type": "code",
     "collapsed": false,
     "input": [
      "sfingdct = {'And XXX': False,\n",
      " 'And XXXI': False,\n",
      " 'And XXXII': False,\n",
      " 'Andromeda': True,\n",
      " 'Andromeda I': False,\n",
      " 'Andromeda II': False,\n",
      " 'Andromeda III': False,\n",
      " 'Andromeda IX': False,\n",
      " 'Andromeda V': False,\n",
      " 'Andromeda VI': False,\n",
      " 'Andromeda VII': False,\n",
      " 'Andromeda X': False,\n",
      " 'Andromeda XI': False,\n",
      " 'Andromeda XII': False,\n",
      " 'Andromeda XIII': False,\n",
      " 'Andromeda XIV': False,\n",
      " 'Andromeda XIX': False,\n",
      " 'Andromeda XV': False,\n",
      " 'Andromeda XVI': False,\n",
      " 'Andromeda XVII': False,\n",
      " 'Andromeda XVIII': False,\n",
      " 'Andromeda XX': False,\n",
      " 'Andromeda XXI': False,\n",
      " 'Andromeda XXII': False,\n",
      " 'Andromeda XXIII': False,\n",
      " 'Andromeda XXIV': False,\n",
      " 'Andromeda XXIX': False,\n",
      " 'Andromeda XXV': False,\n",
      " 'Andromeda XXVI': False,\n",
      " 'Andromeda XXVII': False,\n",
      " 'Andromeda XXVIII': False,\n",
      " 'Antlia': True,\n",
      " 'Aquarius': True,\n",
      " 'Bootes (I)': False,\n",
      " 'Bootes II': False,\n",
      " 'Bootes III': False,\n",
      " 'Canes Venatici (I)': False,\n",
      " 'Canes Venatici II': False,\n",
      " 'Canis Major': False,\n",
      " 'Carina': False,\n",
      " 'Cetus': False,\n",
      " 'Coma Berenices': False,\n",
      " 'DDO 113': True,\n",
      " 'DDO 125': True,\n",
      " 'DDO 190': True,\n",
      " 'DDO 99': True,\n",
      " 'Draco': False,\n",
      " 'ESO 294- G 010': False,\n",
      " 'ESO 410- G 005': False,\n",
      " 'Fornax': False,\n",
      " 'GR 8': True,\n",
      " 'HIZSS 3(A)': True,\n",
      " 'HIZSS 3B': True,\n",
      " 'Hercules': False,\n",
      " 'IC 10': True,\n",
      " 'IC 1613': True,\n",
      " 'IC 3104': True,\n",
      " 'IC 4662': True,\n",
      " 'IC 5152': True,\n",
      " 'KKH 86': True,\n",
      " 'KKH 98': True,\n",
      " 'KKR 25': False,\n",
      " 'KKR 3': True,\n",
      " 'LGS 3': True,\n",
      " 'LMC': True,\n",
      " 'Leo A': True,\n",
      " 'Leo I': False,\n",
      " 'Leo II': False,\n",
      " 'Leo IV': False,\n",
      " 'Leo P': True,\n",
      " 'Leo T': True,\n",
      " 'Leo V': False,\n",
      " 'M32': False,\n",
      " 'NGC 147': False,\n",
      " 'NGC 185': False,\n",
      " 'NGC 205': False,\n",
      " 'NGC 300': True,\n",
      " 'NGC 3109': True,\n",
      " 'NGC 4163': True,\n",
      " 'NGC 55': True,\n",
      " 'NGC 6822': True,\n",
      " 'Pegasus dIrr': True,\n",
      " 'Phoenix': True,\n",
      " 'Pisces II': False,\n",
      " 'SMC': True,\n",
      " 'Sagittarius dIrr': True,\n",
      " 'Sagittarius dSph': False,\n",
      " 'Sculptor': False,\n",
      " 'Segue (I)': False,\n",
      " 'Segue II': False,\n",
      " 'Sextans (I)': False,\n",
      " 'Sextans A': True,\n",
      " 'Sextans B': True,\n",
      " 'The Galaxy': True,\n",
      " 'Triangulum': True,\n",
      " 'Tucana': False,\n",
      " 'UGC 4879': True,\n",
      " 'UGC 8508': True,\n",
      " 'UGC 9128': True,\n",
      " 'UGCA 86': True,\n",
      " 'UKS 2323-326': True,\n",
      " 'Ursa Major (I)': False,\n",
      " 'Ursa Major II': False,\n",
      " 'Ursa Minor': False,\n",
      " 'WLM': True,\n",
      " 'Willman 1': False}\n",
      "sfing = np.array([sfingdct[nm] for nm in ngtab['name']])"
     ],
     "language": "python",
     "metadata": {},
     "outputs": [],
     "prompt_number": 112
    },
    {
     "cell_type": "code",
     "collapsed": false,
     "input": [
      "leopmstar=5.7e5 * u.solMass\n",
      "leopmhi=9.3e5 * u.solMass\n",
      "leopdist=1.72*u.Mpc\n",
      "leopMV=-9.41*u.mag\n",
      "leopRelim=0.58*u.kpc  #that's the \"Semimajor axis\", which isn't really Re\n",
      "leopRe=.188*u.kpc #from below"
     ],
     "language": "python",
     "metadata": {},
     "outputs": [],
     "prompt_number": 113
    },
    {
     "cell_type": "code",
     "collapsed": false,
     "input": [
      "mw = SkyCoord(l=0*u.deg,b=0*u.deg, distance=8.5*u.kpc, frame='galactic').icrs\n",
      "m31 = ngtab[ngtab['name']=='Andromeda']['center'][0]\n",
      "\n",
      "m31d = np.array([m31.separation_3d(c).kpc for c in ngtab['center']])\n",
      "mwd = np.array([mw.separation_3d(c).kpc for c in ngtab['center']])\n",
      "mwd[0] = 0 #The MW itself\n",
      "m31closer = m31d < mwd\n",
      "\n",
      "ds = ngtab['distance'].copy()\n",
      "vhs = ngtab['vh']\n",
      "vabs = ngtab['Vabs']\n",
      "ds[m31closer] = m31d[m31closer]\n",
      "ds[~m31closer] = mwd[~m31closer]\n",
      "\n",
      "Rh = u.Quantity(ngtab['rh'], u.arcmin)\n",
      "dlos = u.Quantity(ngtab['distance'])\n",
      "Reff = Rh.to(u.radian).value*dlos\n",
      "\n",
      "mag2lmstar = lambda mag, mag_sun=4.65, mtol=1: (mag - mag_sun)/-2.5 + np.log10(mtol)\n",
      "\n",
      "mhing = u.Quantity(ngtab['MHI'], u.solMass)\n",
      "lmhing = np.log10(mhing/u.solMass).value\n",
      "\n",
      "lMstarng = np.array(mag2lmstar(ngtab['Vmag'] - ngtab['distmod'], 4.83, 1))"
     ],
     "language": "python",
     "metadata": {},
     "outputs": [],
     "prompt_number": 114
    },
    {
     "cell_type": "code",
     "collapsed": false,
     "input": [
      "#from Cannon+ 11\n",
      "shieldtabstr=\"\"\"\n",
      "Table 1\n",
      "VLA/EVLA Observations of ALFALFA-selected Low-mass Dwarf Galaxies\n",
      "\n",
      "AGC^a\talpha\tdelta\tDistance\tM_r\t(u - r)\tM_B\t(B - V)\t%Z_sun^b\tV_21\tW_21\tlog (M_H i)\t\n",
      "\t(J2000)\t(J2000)\t(Mpc)\t(mag)\t(mag)\t(mag)\t(mag)\t\t(km s^-1)\t(km s^-1)\t(M_sun)\t\n",
      "Concept demonstration targets\t\n",
      "100062\t00:09:52.8\t15:43:58\t12.7^c\t-15.02\t1.02 +or- 0.02\tN/A\tN/A\tN/A\t869\t45\t7.82\t\n",
      "101772\t00:11:08.2\t14:14:08\t11.7^c\t-13.64\t0.98 +or- 0.06\tN/A\tN/A\tN/A\t802\t37\t7.54\t\n",
      "111945\t01:44:42.7\t27:17:18\t6.3^c\t-11.88^d\t3.35 +or- 1.26^d\tN/A\tN/A\tN/A\t420\t38\t7.28\t\n",
      "321203\t22:13:03.3\t28:04:28\t16.4^c\t-14.20\t0.98 +or- 0.04\tN/A\tN/A\t14%\t983\t62\t7.83\t\n",
      "321307\t22:14:04.4\t25:41:08\t18.7^c\t-13.88\t1.24 +or- 0.07\tN/A\tN/A\tN/A\t1152\t60\t7.96\t\n",
      "332939\t23:08:16.0\t31:53:57\t11.4^c\t-13.67\t0.69 +or- 0.05\tN/A\tN/A\tN/A\t692\t41\t7.74\t\n",
      "\t\n",
      "The SHIELD sample\t\n",
      "748778^e\t00:06:34.3\t15:30:39\t5.4^c\t-10.52\t0.81 +or- 0.19\t-10.02\t0.25 +or- 0.03\tN/A\t258\t16\t6.51\t\n",
      "112521^e\t01:41:07.6\t27:19:24\t7.2^f\t-11.52^d\t2.19 +or- 0.42^d\t-10.80\t0.45 +or- 0.03\t6%\t274\t26\t6.92\t\n",
      "110482^e\t01:42:17.4\t26:22:00\t7.2^f\t-13.63\t1.25 +or- 0.04\t-12.86\t0.49 +or- 0.02\t13%\t357\t30\t7.21\t\n",
      "111946^e\t01:46:42.2\t26:48:05\t7.2^f\t-11.49^d\t1.46 +or- 0.25^d\t-11.48\t0.39 +or- 0.03\t5%\t367\t21\t6.97\t\n",
      "111977^e\t01:55:20.2\t27:57:14\t5.5^g\t-12.55^d\t2.26 +or- 0.16^d\t-12.31\t0.47 +or- 0.02\tN/A\t207\t26\t6.78\t\n",
      "111164^e\t02:00:10.1\t28:49:52\t4.9^g\t-11.50^d\t0.80 +or- 0.09^d\t-11.10\t0.41 +or- 0.02\tN/A\t163\t27\t6.57\t\n",
      "174585^h,^i\t07:36:10.3\t09:59:11\t6.1^c\tN/A\tN/A\tN/A\tN/A\tN/A\t356\t21\t6.68\t\n",
      "174605^h\t07:50:21.7\t07:47:40\t6.0^c\t-10.46^d\t1.85 +or- 0.21^d\t-10.98\t0.47 +or- 0.05\tN/A\t351\t24\t6.75\t\n",
      "182595^h\t08:51:12.1\t27:52:48\t6.1^c\t-12.45\t1.27 +or- 0.05\t-11.75\t0.52 +or- 0.05\tN/A\t398\t20\t6.66\t\n",
      "731457^h\t10:31:55.8\t28:01:33\t5.4^c\t-12.55\t1.23 +or- 0.03\t-12.02\t0.39 +or- 0.05\tN/A\t454\t36\t6.63\t\n",
      "749237^h\t12:26:23.4\t27:44:44\t3.2^c\t-11.58\t1.28 +or- 0.03\t-11.21\t0.44 +or- 0.05\tN/A\t372\t65\t6.64\t\n",
      "749241^h\t12:40:01.7\t26:19:19\t4.3^c\t-9.27\t0.83 +or- 0.15\t-9.57\t0.22 +or- 0.05\tN/A\t451\t18\t6.52\t\n",
      "\n",
      "Notes.\n",
      "a Arecibo General Catalog.\n",
      "b Assuming the solar oxygen abundance from Asplund et al. (2009).\n",
      "c Derived using the parametric multiattractor flow model developed by Masters (2005); see further discussion in Martin et al. (2010).\n",
      "d Magnitudes and colors uncertain due to SDSS shredding issues.\n",
      "e WIYN 3.5 m imaging acquired in Fall 2010.\n",
      "f Probable member of NGC 672 group.\n",
      "g Tip of the red giant branch.\n",
      "h WIYN 3.5 m imaging acquired in Spring 2011.\n",
      "i AGC 174585 is outside the SDSS footprint; an absolute calibration of the WIYN 3.5 m observations awaits subsequent re-imaging.\n",
      "\"\"\"[1:-1]\n",
      "\n",
      "indat = False\n",
      "shinum = []\n",
      "shiMr = []\n",
      "shilMHI = []\n",
      "shiw50 = []\n",
      "for ln in shieldtabstr.split('\\n'):\n",
      "    if ln.startswith('Concept demonstration targets') or ln.startswith('The SHIELD sample'):\n",
      "        indat = True\n",
      "    elif indat:\n",
      "        if ln.strip() == '':\n",
      "            indat = False\n",
      "        else:\n",
      "            lns = ln.strip().split('\\t')\n",
      "            if lns[4] != 'N/A':\n",
      "                shinum.append(int(lns[0].split('^')[0]))\n",
      "                shiMr.append(float(lns[4].split('^')[0]))\n",
      "                shilMHI.append(float(lns[-1]))\n",
      "                shiw50.append(float(lns[-2]))\n",
      "\n",
      "shinum = np.array(shinum)\n",
      "shiMr = np.array(shiMr)\n",
      "shilMHI = np.array(shilMHI)\n",
      "shiw50 = np.array(shiw50)     \n",
      "shilMstar = mag2lmstar(shiMr)"
     ],
     "language": "python",
     "metadata": {},
     "outputs": [],
     "prompt_number": 115
    },
    {
     "cell_type": "code",
     "collapsed": false,
     "input": [
      "#same for 2014-11-08 and 2014-10-30\n",
      "zeroptinfo=\"\"\"\n",
      "FILTER  \t  PHOTPLAM  \t  PHOTFLAM  \t  STmag  \t  VEGAmag \t  ABmag\n",
      "\n",
      "F606W\n",
      "5921.8\n",
      "7.844e-20\n",
      "26.664\n",
      "26.407\n",
      "26.493\n",
      "\n",
      "F814W\n",
      "8059.3\n",
      "7.007e-20\n",
      "26.786\n",
      "25.523\n",
      "25.947\n",
      "\"\"\"\n",
      "f606wzpt = 26.407*u.mag\n",
      "f814wzpt = 25.523*u.mag"
     ],
     "language": "python",
     "metadata": {},
     "outputs": [],
     "prompt_number": 196
    },
    {
     "cell_type": "code",
     "collapsed": false,
     "input": [
      "PiscB_606 = f606wzpt-2.5*np.log10(get_struc_param('606B', 'flux'))*u.mag\n",
      "PiscA_606 = f606wzpt-2.5*np.log10(get_struc_param('606A', 'flux'))*u.mag\n",
      "PiscB_814 = f814wzpt-2.5*np.log10(get_struc_param('814B', 'flux'))*u.mag\n",
      "PiscA_814 = f814wzpt-2.5*np.log10(get_struc_param('814A', 'flux'))*u.mag\n",
      "\n",
      "minchains = min(PiscA_606.size, PiscA_dist.ravel().size)\n",
      "PiscA_M606 = PiscA_606[:minchains] - PiscA_dist.distmod.ravel()[:minchains]\n",
      "minchains = min(PiscB_606.size, PiscB_dist.ravel().size)\n",
      "PiscB_M606 = PiscB_606[:minchains] - PiscB_dist.distmod.ravel()[:minchains]\n",
      "\n",
      "M606s = u.Quantity([np.median(PiscA_M606), np.median(PiscB_M606)])"
     ],
     "language": "python",
     "metadata": {},
     "outputs": [],
     "prompt_number": 213
    },
    {
     "cell_type": "code",
     "collapsed": false,
     "input": [],
     "language": "python",
     "metadata": {},
     "outputs": [
      {
       "metadata": {},
       "output_type": "pyout",
       "prompt_number": 217,
       "text": [
        "array([ 0.57312881,  0.57312881,  0.58046777, ...,  0.60607571,\n",
        "        0.60607571,  0.60054239])"
       ]
      }
     ],
     "prompt_number": 217
    },
    {
     "cell_type": "code",
     "collapsed": false,
     "input": [
      "wfc_platescale = 0.05*u.arcsec\n",
      "PiscA_reff_sky = get_struc_param('606A', 'reffmaj')*get_struc_param('606A', 'ellipticity')**0.5*wfc_platescale\n",
      "PiscB_reff_sky = get_struc_param('606B', 'reffmaj')*get_struc_param('606B', 'ellipticity')**0.5*wfc_platescale\n",
      "\n",
      "minchains = min(PiscA_reff_sky.size, PiscA_dist.ravel().size)\n",
      "PiscA_reff = PiscA_reff_sky[:minchains].to(u.radian).value*PiscA_dist.ravel()[:minchains]\n",
      "minchains = min(PiscB_reff_sky.size, PiscB_dist.ravel().size)\n",
      "PiscB_reff = PiscB_reff_sky[:minchains].to(u.radian).value*PiscB_dist.ravel()[:minchains]\n",
      "\n",
      "Pisc_reffs = u.Quantity([np.median(PiscA_reff), np.median(PiscB_reff)])"
     ],
     "language": "python",
     "metadata": {},
     "outputs": [],
     "prompt_number": 218
    },
    {
     "cell_type": "code",
     "collapsed": false,
     "input": [
      "def make_mr_plot(leg=True, addleop=True, tcksfontsize=20, pointscale=1, piscdwarfs=True):\n",
      "    msk = vabs <-0.5  # there are some failed points at ~0\n",
      "    \n",
      "    sfvabs = vabs[msk&sfing]\n",
      "    sfRe = Reff.value[msk&sfing]\n",
      "\n",
      "    if addleop:\n",
      "        plt.scatter([leopMV.value], np.log10([leopRe/u.pc]), marker='d', c='c', label='Leo P',edgecolor='none',\n",
      "                    s=100*pointscale, zorder=2)\n",
      "        print([leopMV.value], np.log10([leopRe/u.pc]))\n",
      "    plt.scatter(sfvabs, np.log10(sfRe)+3, lw=1, c='b', marker=(8, 2, 0), label='Starforming LG', s=50*pointscale)\n",
      "    plt.scatter(vabs[msk&~sfing], np.log10(Reff.value[msk&~sfing])+3, edgecolor='none', c='r', label='Passive LG', s=30*pointscale)\n",
      "\n",
      "\n",
      "    if piscdwarfs:\n",
      "        plt.scatter(M606s, np.log10(Pisc_reffs/u.pc), s=250*pointscale, marker='s', color='k', label='Pisces A/B')\n",
      "        plt.scatter(M606s+3*u.mag, np.log10(Pisc_reffs/u.pc), s=250*pointscale, marker='s', color='m', label='Pisces A/B (faded)')\n",
      "\n",
      "\n",
      "    if leg:\n",
      "        if leg is True:\n",
      "            leg = 'upper left'\n",
      "        plt.legend(loc=leg, scatterpoints=1, framealpha=1, fontsize=24)\n",
      "    plt.ylim(1.7, 3.5)\n",
      "    plt.ylabel(r'$\\log(R_{\\rm eff}/{\\rm pc})$',fontsize=24)\n",
      "\n",
      "    maglims = (-4,-17.2)\n",
      "    plt.xlim(*maglims)\n",
      "    plt.xlabel(r'$M_V$',fontsize=24)\n",
      "    plt.xticks(fontsize=tcksfontsize)\n",
      "    plt.yticks(fontsize=tcksfontsize)\n",
      "\n",
      "    plt.twiny()\n",
      "    plt.xlim((maglims[0]-4.83)/-2.5,(maglims[1]-4.83)/-2.5)\n",
      "    plt.xlabel(r'$\\log(L_V/L_\\odot$)',fontsize=24)\n",
      "    plt.xticks(fontsize=tcksfontsize)\n",
      "\n",
      "plt.figure(figsize=(14,10))\n",
      "make_mr_plot(pointscale=1.5, piscdwarfs=True)\n",
      "plt.tight_layout()\n",
      "#plt.savefig('/Users/erik/Documents/presentations/Chile15/context.pdf')"
     ],
     "language": "python",
     "metadata": {},
     "outputs": [
      {
       "output_type": "stream",
       "stream": "stdout",
       "text": [
        "[-9.41] [ 2.27415785]\n"
       ]
      },
      {
       "metadata": {},
       "output_type": "display_data",
       "png": "[encoded data removed]",
       "text": [
        "<matplotlib.figure.Figure at 0x10f7db050>"
       ]
      }
     ],
     "prompt_number": 234
    },
    {
     "cell_type": "code",
     "collapsed": false,
     "input": [],
     "language": "python",
     "metadata": {},
     "outputs": []
    }
   ],
   "metadata": {}
  }
 ]
}