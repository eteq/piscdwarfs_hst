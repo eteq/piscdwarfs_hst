{
 "cells": [
  {
   "cell_type": "code",
   "execution_count": 100,
   "metadata": {
    "collapsed": true
   },
   "outputs": [],
   "source": [
    "from __future__ import division, print_function\n",
    "\n",
    "import collections\n",
    "import cPickle as pickle\n",
    "\n",
    "import numpy as np\n",
    "\n",
    "from astropy import units as u\n",
    "from astropy.io import fits\n",
    "from astropy.table import Table\n",
    "from astropy import wcs"
   ]
  },
  {
   "cell_type": "code",
   "execution_count": 21,
   "metadata": {
    "collapsed": true
   },
   "outputs": [],
   "source": [
    "drz_platescale = 0.03*u.arcsec #per pixel"
   ]
  },
  {
   "cell_type": "markdown",
   "metadata": {},
   "source": [
    "# Load Data "
   ]
  },
  {
   "cell_type": "code",
   "execution_count": 2,
   "metadata": {
    "collapsed": true
   },
   "outputs": [],
   "source": [
    "def unpickle_file(fn):\n",
    "    with open(fn, 'r') as f:\n",
    "        return pickle.load(f)"
   ]
  },
  {
   "cell_type": "code",
   "execution_count": 12,
   "metadata": {
    "collapsed": false
   },
   "outputs": [
    {
     "data": {
      "text/plain": [
       "(['param_names', 'chains606B', 'chains814B', 'chains814A', 'chains606A'],\n",
       " ['flux', 'n', 'reffmaj', 'ellipticity', 'cenx', 'ceny', 'theta'])"
      ]
     },
     "execution_count": 12,
     "metadata": {},
     "output_type": "execute_result"
    }
   ],
   "source": [
    "struc_param_dct = unpickle_file('strucparams_chains_2015_07_22.pckl')\n",
    "\n",
    "def get_struc_param(chainnm, paramnm):\n",
    "    sp = struc_param_dct['chains'+chainnm]\n",
    "    idx = struc_param_dct['param_names'].index(paramnm)\n",
    "    return sp[:, :, idx].ravel()\n",
    "\n",
    "struc_param_dct.keys(), struc_param_dct['param_names']"
   ]
  },
  {
   "cell_type": "code",
   "execution_count": 65,
   "metadata": {
    "collapsed": false
   },
   "outputs": [
    {
     "data": {
      "text/plain": [
       "(['piscA_dist_Mpc', 'piscB_dist_Mpc'],\n",
       " ['tipcolorA', 'param_names', 'tipcolorB', 'chainsA', 'chainsB'],\n",
       " array(['tipmag', 'alphargb', 'alphaother', 'fracother'], \n",
       "       dtype='|S10'))"
      ]
     },
     "execution_count": 65,
     "metadata": {},
     "output_type": "execute_result"
    }
   ],
   "source": [
    "dists = np.load('PiscAB_distances_2015_12_15.npz')\n",
    "#rgbchains = np.load('rgb_chains_2015_12_15.npz')\n",
    "rgbchains = np.load('rgb_chains_2015_12_23.npz') # modA/modB are missing because this one was reprocessed\n",
    "\n",
    "def get_rgb_param(aorb, paramnm):\n",
    "    if aorb == 'A':\n",
    "        chain = rgbchains['chainsA']\n",
    "    elif aorb == 'B':\n",
    "        chain = rgbchains['chainsB']\n",
    "    else:\n",
    "        raise ValueError('not A or B')\n",
    "    \n",
    "    idx = list(rgbchains['param_names']).index(paramnm)\n",
    "    return chain[:, :, idx].ravel()\n",
    "\n",
    "dists.keys(), rgbchains.keys(), rgbchains['param_names']"
   ]
  },
  {
   "cell_type": "markdown",
   "metadata": {},
   "source": [
    "# Process data into table "
   ]
  },
  {
   "cell_type": "code",
   "execution_count": 77,
   "metadata": {
    "collapsed": true
   },
   "outputs": [],
   "source": [
    "f606wzpt = 26.407*u.mag\n",
    "f814wzpt = 25.523*u.mag\n",
    "\n",
    "def get_flux_mag(aorb, band):\n",
    "    band = str(band)\n",
    "    \n",
    "    if aorb == 'A':\n",
    "        flux = get_struc_param(band+'A', 'flux')\n",
    "    elif aorb == 'B':\n",
    "        flux = get_struc_param(band+'B', 'flux')\n",
    "    else:\n",
    "        raise ValueError('not A or B')\n",
    "        \n",
    "    if band=='606':\n",
    "        zpt = f606wzpt\n",
    "    elif band=='814':\n",
    "        zpt = f814wzpt\n",
    "    else:\n",
    "        raise ValueError('invalid band')\n",
    "        \n",
    "    return  zpt - 2.5*np.log10(flux)*u.mag"
   ]
  },
  {
   "cell_type": "code",
   "execution_count": 96,
   "metadata": {
    "collapsed": false
   },
   "outputs": [],
   "source": [
    "def get_phys_PA(aorb, band):\n",
    "    band = str(band)\n",
    "    \n",
    "    if aorb == 'A':\n",
    "        theta = get_struc_param(band+'A', 'theta')\n",
    "        wcsfn = 'drizzled_PiscA_F606W_err/PiscA_F606W_err_drc_sci.fits'\n",
    "    elif aorb == 'B':\n",
    "        theta = get_struc_param(band+'B', 'theta')\n",
    "        wcsfn = 'drizzled_PiscB_F606W_err/PiscB_F606W_err_drc_sci.fits'\n",
    "    else:\n",
    "        raise ValueError('not A or B')\n",
    "        \n",
    "    w = wcs.WCS(fits.getheader(wcsfn))\n",
    "    \n",
    "    return  theta*u.deg + np.arctan2(*w.pixel_scale_matrix[0])*u.rad"
   ]
  },
  {
   "cell_type": "code",
   "execution_count": 7,
   "metadata": {
    "collapsed": false
   },
   "outputs": [],
   "source": [
    "def minify_chains(*chains):\n",
    "    chains = [np.array(chain, copy=False).ravel() for chain in chains]\n",
    "    minchain = np.min([chain.size for chain in chains])\n",
    "    return [chain[:minchain] for chain in chains]"
   ]
  },
  {
   "cell_type": "markdown",
   "metadata": {},
   "source": [
    "* Distance\n",
    "* F814W magnitude of the TRGB \n",
    "* (F606W − F814W)0 color of the TRGB\n",
    "* α\n",
    "* β\n",
    "* f (from Equation 1)\n",
    "* F606W (total)\n",
    "* F814W (total)\n",
    "* Sersic index (F606W)\n",
    "* ellipticity (F606W)\n",
    "* position angle (F606W)\n",
    "* Reff (on-sky half-light radius in F606W)\n",
    "* reff (physical)"
   ]
  },
  {
   "cell_type": "code",
   "execution_count": 107,
   "metadata": {
    "collapsed": false
   },
   "outputs": [],
   "source": [
    "tab = Table()\n",
    "\n",
    "for aorb in ['A', 'B']:\n",
    "    chains = collections.OrderedDict()\n",
    "    chains['Distance'] = dists['pisc{}_dist_Mpc'.format(aorb)].ravel()*u.Mpc\n",
    "    chains['mu_814'] = get_rgb_param(aorb, 'tipmag') * u.mag\n",
    "    chains['Color_TRGB'] = rgbchains['tipcolor'+aorb].ravel() * u.mag\n",
    "    chains['alpha'] = get_rgb_param(aorb, 'alphargb')\n",
    "    chains['beta'] = get_rgb_param(aorb, 'alphaother')\n",
    "    chains['f'] = get_rgb_param(aorb, 'fracother')\n",
    "    chains['F606W'] = get_flux_mag(aorb, 606)\n",
    "    chains['F814W'] = get_flux_mag(aorb, 814)\n",
    "    chains['sersic_n'] = get_struc_param('606' + aorb, 'n')\n",
    "    chains['e'] = get_struc_param('606' + aorb, 'ellipticity')\n",
    "    chains['PA'] = get_phys_PA(aorb, 606)\n",
    "    chains['Reff_major'] = get_struc_param('606' + aorb, 'reffmaj')*drz_platescale\n",
    "\n",
    "    minchains = minify_chains(*chains.values())\n",
    "    \n",
    "    chains2 = collections.OrderedDict()\n",
    "    for i, (k, v) in enumerate(chains.items()):\n",
    "        if hasattr(v, 'unit'):\n",
    "            chains2[k] = minchains[i]*v.unit\n",
    "        else:\n",
    "            chains2[k] = minchains[i]\n",
    "\n",
    "    chains2['reff'] = (chains2['Reff_major'].to(u.radian).value * chains2['Distance'] * chains2['e']**0.5 ).to(u.pc)\n",
    "    \n",
    "    for k, v in chains2.items():\n",
    "        tab[k+'_'+aorb] = v"
   ]
  },
  {
   "cell_type": "code",
   "execution_count": 121,
   "metadata": {
    "collapsed": false
   },
   "outputs": [
    {
     "data": {
      "text/html": [
       "&lt;Table masked=False length=56000&gt;\n",
       "<table id=\"table4619225872\">\n",
       "<thead><tr><th>Distance_A</th><th>mu_814_A</th><th>Color_TRGB_A</th><th>alpha_A</th><th>beta_A</th><th>f_A</th><th>F606W_A</th><th>F814W_A</th><th>sersic_n_A</th><th>e_A</th><th>PA_A</th><th>Reff_major_A</th><th>reff_A</th><th>Distance_B</th><th>mu_814_B</th><th>Color_TRGB_B</th><th>alpha_B</th><th>beta_B</th><th>f_B</th><th>F606W_B</th><th>F814W_B</th><th>sersic_n_B</th><th>e_B</th><th>PA_B</th><th>Reff_major_B</th><th>reff_B</th></tr></thead>\n",
       "<thead><tr><th>Mpc</th><th>mag</th><th>mag</th><th></th><th></th><th></th><th>mag</th><th>mag</th><th></th><th></th><th>deg</th><th>arcsec</th><th>pc</th><th>Mpc</th><th>mag</th><th>mag</th><th></th><th></th><th></th><th>mag</th><th>mag</th><th></th><th></th><th>deg</th><th>arcsec</th><th>pc</th></tr></thead>\n",
       "<thead><tr><th>float64</th><th>float64</th><th>float64</th><th>float64</th><th>float64</th><th>float64</th><th>float64</th><th>float64</th><th>float64</th><th>float64</th><th>float64</th><th>float64</th><th>float64</th><th>float64</th><th>float64</th><th>float64</th><th>float64</th><th>float64</th><th>float64</th><th>float64</th><th>float64</th><th>float64</th><th>float64</th><th>float64</th><th>float64</th><th>float64</th></tr></thead>\n",
       "<tr><td>5.35137251305</td><td>24.5061705213</td><td>0.849223016923</td><td>0.651241787818</td><td>0.650790579957</td><td>0.299216478809</td><td>17.3217352382</td><td>16.6033721723</td><td>0.44769370305</td><td>0.345743045354</td><td>135.03480639</td><td>9.03179510149</td><td>137.781482509</td><td>8.281959086</td><td>25.4635393262</td><td>0.894369613673</td><td>0.412747481966</td><td>2.74093636118</td><td>0.621478009672</td><td>16.9638911081</td><td>16.4184332754</td><td>0.645326072171</td><td>0.523676123176</td><td>139.143872298</td><td>10.3846524048</td><td>301.73889693</td></tr>\n",
       "<tr><td>5.33509409207</td><td>24.4996550196</td><td>0.849723016923</td><td>0.660155648614</td><td>0.458199892511</td><td>0.198218745088</td><td>17.3212153282</td><td>16.6035109632</td><td>0.450046928886</td><td>0.347035301271</td><td>135.096933126</td><td>9.05296541316</td><td>137.941402872</td><td>8.281959086</td><td>25.4635393262</td><td>0.894369613673</td><td>0.412747481966</td><td>2.74093636118</td><td>0.621478009672</td><td>16.9638911081</td><td>16.4184332754</td><td>0.645326072171</td><td>0.523676123176</td><td>139.143872298</td><td>10.3846524048</td><td>301.73889693</td></tr>\n",
       "<tr><td>5.33509409207</td><td>24.4996550196</td><td>0.849723016923</td><td>0.660155648614</td><td>0.458199892511</td><td>0.198218745088</td><td>17.3202196011</td><td>16.6035109632</td><td>0.451696853959</td><td>0.347765658512</td><td>134.620767985</td><td>9.03935270764</td><td>137.878842685</td><td>8.07932977429</td><td>25.4064505983</td><td>0.877869613673</td><td>0.487071813201</td><td>2.72338503647</td><td>0.583123585626</td><td>16.9638911081</td><td>16.4184332754</td><td>0.645326072171</td><td>0.523676123176</td><td>139.143872298</td><td>10.3846524048</td><td>294.356447395</td></tr>\n",
       "<tr><td>5.42143314792</td><td>24.5343151375</td><td>0.848723016923</td><td>0.564982978913</td><td>0.536925192628</td><td>0.214519180084</td><td>17.3218216991</td><td>16.6035109632</td><td>0.458506653795</td><td>0.339294018433</td><td>135.366458305</td><td>8.99808624221</td><td>137.761298182</td><td>8.49856436973</td><td>25.5151017637</td><td>0.871869613673</td><td>0.34561787832</td><td>2.75678868642</td><td>0.656119657186</td><td>16.9636221964</td><td>16.4184332754</td><td>0.645895728694</td><td>0.524071505863</td><td>139.138494254</td><td>10.3879673389</td><td>309.846278446</td></tr>\n",
       "<tr><td>5.42143314792</td><td>24.5343151375</td><td>0.848723016923</td><td>0.564982978913</td><td>0.536925192628</td><td>0.214519180084</td><td>17.3218216991</td><td>16.60208575</td><td>0.458506653795</td><td>0.339294018433</td><td>135.366458305</td><td>8.99808624221</td><td>137.761298182</td><td>8.49793094169</td><td>25.5158399101</td><td>0.876369613673</td><td>0.345066710216</td><td>2.75574137778</td><td>0.656497092218</td><td>16.9636221964</td><td>16.4203264035</td><td>0.645895728694</td><td>0.524071505863</td><td>139.138494254</td><td>10.3879673389</td><td>309.823184508</td></tr>\n",
       "<tr><td>5.42143314792</td><td>24.5343151375</td><td>0.848723016923</td><td>0.564982978913</td><td>0.536925192628</td><td>0.214519180084</td><td>17.3222703421</td><td>16.60208575</td><td>0.458533958403</td><td>0.338244421697</td><td>135.484905774</td><td>8.99289438148</td><td>137.468688048</td><td>8.73323146778</td><td>25.5721487775</td><td>0.861369613673</td><td>0.464398364375</td><td>2.61032107748</td><td>0.72007509027</td><td>16.9636221964</td><td>16.4167832526</td><td>0.645895728694</td><td>0.524071505863</td><td>139.138494254</td><td>10.3879673389</td><td>318.401926652</td></tr>\n",
       "<tr><td>5.50962461172</td><td>24.5678546534</td><td>0.841223016923</td><td>0.535194814384</td><td>0.821538842039</td><td>0.329314758791</td><td>17.3241401527</td><td>16.6018691526</td><td>0.462600434366</td><td>0.338917524954</td><td>135.852646522</td><td>9.00007365691</td><td>139.955494686</td><td>8.73323146778</td><td>25.5721487775</td><td>0.861369613673</td><td>0.464398364375</td><td>2.61032107748</td><td>0.72007509027</td><td>16.9636221964</td><td>16.4167832526</td><td>0.645895728694</td><td>0.524071505863</td><td>139.138494254</td><td>10.3879673389</td><td>318.401926652</td></tr>\n",
       "<tr><td>5.50862559965</td><td>24.5674608835</td><td>0.841223016923</td><td>0.534672580642</td><td>0.81803525658</td><td>0.326855882291</td><td>17.3241401527</td><td>16.6018691526</td><td>0.462600434366</td><td>0.338917524954</td><td>135.852646522</td><td>9.00007365691</td><td>139.93011778</td><td>8.73323146778</td><td>25.5721487775</td><td>0.861369613673</td><td>0.464398364375</td><td>2.61032107748</td><td>0.72007509027</td><td>16.9649450257</td><td>16.4167832526</td><td>0.644795963233</td><td>0.52539308201</td><td>139.139253914</td><td>10.3920623424</td><td>318.928812793</td></tr>\n",
       "<tr><td>5.46149796701</td><td>24.550303485</td><td>0.848723016923</td><td>0.511917732015</td><td>0.665376494377</td><td>0.219717338835</td><td>17.3241010878</td><td>16.6018691526</td><td>0.462336210034</td><td>0.339751535836</td><td>135.814537637</td><td>9.00442191529</td><td>138.970683582</td><td>9.10509811311</td><td>25.6614970725</td><td>0.855369613673</td><td>0.408450546002</td><td>2.60903846842</td><td>0.782794603074</td><td>16.9649450257</td><td>16.4159753628</td><td>0.644795963233</td><td>0.52539308201</td><td>139.139253914</td><td>10.3920623424</td><td>332.509007953</td></tr>\n",
       "<tr><td>...</td><td>...</td><td>...</td><td>...</td><td>...</td><td>...</td><td>...</td><td>...</td><td>...</td><td>...</td><td>...</td><td>...</td><td>...</td><td>...</td><td>...</td><td>...</td><td>...</td><td>...</td><td>...</td><td>...</td><td>...</td><td>...</td><td>...</td><td>...</td><td>...</td><td>...</td></tr>\n",
       "<tr><td>5.66125537099</td><td>24.626708332</td><td>0.840723016923</td><td>0.432453196915</td><td>1.12865610679</td><td>0.469641090649</td><td>17.315699957</td><td>16.5842300276</td><td>0.467391724569</td><td>0.351376667771</td><td>134.469528502</td><td>9.18688636938</td><td>149.466001761</td><td>9.25553141894</td><td>25.6960807198</td><td>0.850369613673</td><td>0.49991149811</td><td>1.8042956396</td><td>0.751287404192</td><td>16.9609547485</td><td>16.421677309</td><td>0.643972076741</td><td>0.524454924931</td><td>139.081413749</td><td>10.4083150199</td><td>338.228919676</td></tr>\n",
       "<tr><td>5.64859588178</td><td>24.6218471287</td><td>0.840723016923</td><td>0.442511511778</td><td>1.11501448482</td><td>0.45665703359</td><td>17.315699957</td><td>16.5844974303</td><td>0.467391724569</td><td>0.351376667771</td><td>134.469528502</td><td>9.18688636938</td><td>149.131771434</td><td>9.00906773833</td><td>25.6384731845</td><td>0.855369613673</td><td>0.518262209263</td><td>1.88251892284</td><td>0.642780171934</td><td>16.9609547485</td><td>16.421677309</td><td>0.643972076741</td><td>0.524454924931</td><td>139.081413749</td><td>10.4083150199</td><td>329.222289947</td></tr>\n",
       "<tr><td>5.63598309059</td><td>24.6169930106</td><td>0.840723016923</td><td>0.45951819329</td><td>1.1051398237</td><td>0.455836731075</td><td>17.3233961532</td><td>16.5865780313</td><td>0.474017459157</td><td>0.341737255821</td><td>135.010444395</td><td>9.08373799818</td><td>145.095957073</td><td>9.0562574476</td><td>25.6502177226</td><td>0.857369613673</td><td>0.468894470725</td><td>1.6346839793</td><td>0.521287075141</td><td>16.9569405522</td><td>16.421677309</td><td>0.647334175788</td><td>0.525039243892</td><td>139.065878098</td><td>10.4461606823</td><td>332.335099445</td></tr>\n",
       "<tr><td>5.69996764541</td><td>24.6405065559</td><td>0.835723016923</td><td>0.539688254327</td><td>1.10348619147</td><td>0.48819002431</td><td>17.3233686974</td><td>16.5865780313</td><td>0.474744422777</td><td>0.34093557207</td><td>135.140997819</td><td>9.07621610254</td><td>146.44961804</td><td>8.87500375378</td><td>25.6055166498</td><td>0.853369613673</td><td>0.477525504765</td><td>1.99944720952</td><td>0.633404055834</td><td>16.9578990818</td><td>16.421677309</td><td>0.647509499286</td><td>0.524515284699</td><td>139.098944975</td><td>10.4358352044</td><td>325.199372416</td></tr>\n",
       "<tr><td>5.72557266117</td><td>24.649939256</td><td>0.834223016923</td><td>0.382407031654</td><td>1.07228999344</td><td>0.445699588565</td><td>17.3237129797</td><td>16.5936074707</td><td>0.475746164646</td><td>0.342424772264</td><td>135.331711951</td><td>9.08316610462</td><td>147.541312104</td><td>8.54253300693</td><td>25.5263072503</td><td>0.871869613673</td><td>0.365072202757</td><td>2.00246013037</td><td>0.555829667831</td><td>16.9559520685</td><td>16.421677309</td><td>0.648597750272</td><td>0.525178479904</td><td>139.102481212</td><td>10.458361682</td><td>313.890845765</td></tr>\n",
       "<tr><td>5.73895135594</td><td>24.6550073215</td><td>0.834223016923</td><td>0.465042180094</td><td>1.10328902767</td><td>0.492449486343</td><td>17.3236405901</td><td>16.591649587</td><td>0.475605005547</td><td>0.342454746185</td><td>135.327911541</td><td>9.08370235918</td><td>147.901269157</td><td>7.97058521444</td><td>25.3775249689</td><td>0.880369613673</td><td>0.395617951502</td><td>2.06226520032</td><td>0.437989392177</td><td>16.9570534295</td><td>16.4217049265</td><td>0.648521704446</td><td>0.52476217575</td><td>139.106213214</td><td>10.4454241142</td><td>292.396666008</td></tr>\n",
       "<tr><td>5.73895135594</td><td>24.6550073215</td><td>0.834223016923</td><td>0.465042180094</td><td>1.10328902767</td><td>0.492449486343</td><td>17.3231651991</td><td>16.5909886691</td><td>0.479234566165</td><td>0.343159950181</td><td>135.460416056</td><td>9.07688349459</td><td>147.942335231</td><td>7.97058521444</td><td>25.3775249689</td><td>0.880369613673</td><td>0.395617951502</td><td>2.06226520032</td><td>0.437989392177</td><td>16.9570534295</td><td>16.4217049265</td><td>0.648521704446</td><td>0.52476217575</td><td>139.106213214</td><td>10.4454241142</td><td>292.396666008</td></tr>\n",
       "<tr><td>5.73895135594</td><td>24.6550073215</td><td>0.834223016923</td><td>0.465042180094</td><td>1.10328902767</td><td>0.492449486343</td><td>17.3185918194</td><td>16.5909886691</td><td>0.472561099586</td><td>0.345311461689</td><td>135.298057828</td><td>9.10570386756</td><td>148.876595768</td><td>7.97058521444</td><td>25.3775249689</td><td>0.880369613673</td><td>0.395617951502</td><td>2.06226520032</td><td>0.437989392177</td><td>16.9570534295</td><td>16.4217049265</td><td>0.648521704446</td><td>0.52476217575</td><td>139.106213214</td><td>10.4454241142</td><td>292.396666008</td></tr>\n",
       "<tr><td>5.73898076684</td><td>24.6547184498</td><td>0.832723016923</td><td>0.462427365453</td><td>1.10477811184</td><td>0.4900740308</td><td>17.3097008012</td><td>16.5909886691</td><td>0.478194434422</td><td>0.349585632866</td><td>134.609300427</td><td>9.17466709824</td><td>150.930405527</td><td>8.0090440803</td><td>25.3856773425</td><td>0.868869613673</td><td>0.392162758261</td><td>2.07249689882</td><td>0.449061737972</td><td>16.9583882027</td><td>16.4217049265</td><td>0.648167893282</td><td>0.524512453108</td><td>139.098253579</td><td>10.4347872295</td><td>293.438470747</td></tr>\n",
       "<tr><td>5.67686207571</td><td>24.6318863173</td><td>0.836723016923</td><td>0.450333690014</td><td>1.11467997529</td><td>0.46149542352</td><td>17.3084945891</td><td>16.5911163471</td><td>0.479738992526</td><td>0.351258404826</td><td>134.427440553</td><td>9.1873873594</td><td>149.860990769</td><td>8.20633367231</td><td>25.4433197805</td><td>0.892869613673</td><td>0.452622691355</td><td>2.05269963587</td><td>0.449893464943</td><td>16.9581379354</td><td>16.4196511823</td><td>0.647389797609</td><td>0.52470338184</td><td>139.181383109</td><td>10.4359038972</td><td>300.753743084</td></tr>\n",
       "</table>"
      ],
      "text/plain": [
       "<Table masked=False length=56000>\n",
       "  Distance_A     mu_814_A    Color_TRGB_A  ...  Reff_major_B     reff_B   \n",
       "     Mpc           mag           mag       ...     arcsec          pc     \n",
       "   float64       float64       float64     ...    float64       float64   \n",
       "------------- ------------- -------------- ... ------------- -------------\n",
       "5.35137251305 24.5061705213 0.849223016923 ... 10.3846524048  301.73889693\n",
       "5.33509409207 24.4996550196 0.849723016923 ... 10.3846524048  301.73889693\n",
       "5.33509409207 24.4996550196 0.849723016923 ... 10.3846524048 294.356447395\n",
       "5.42143314792 24.5343151375 0.848723016923 ... 10.3879673389 309.846278446\n",
       "5.42143314792 24.5343151375 0.848723016923 ... 10.3879673389 309.823184508\n",
       "5.42143314792 24.5343151375 0.848723016923 ... 10.3879673389 318.401926652\n",
       "5.50962461172 24.5678546534 0.841223016923 ... 10.3879673389 318.401926652\n",
       "5.50862559965 24.5674608835 0.841223016923 ... 10.3920623424 318.928812793\n",
       "5.46149796701  24.550303485 0.848723016923 ... 10.3920623424 332.509007953\n",
       "          ...           ...            ... ...           ...           ...\n",
       "5.66125537099  24.626708332 0.840723016923 ... 10.4083150199 338.228919676\n",
       "5.64859588178 24.6218471287 0.840723016923 ... 10.4083150199 329.222289947\n",
       "5.63598309059 24.6169930106 0.840723016923 ... 10.4461606823 332.335099445\n",
       "5.69996764541 24.6405065559 0.835723016923 ... 10.4358352044 325.199372416\n",
       "5.72557266117  24.649939256 0.834223016923 ...  10.458361682 313.890845765\n",
       "5.73895135594 24.6550073215 0.834223016923 ... 10.4454241142 292.396666008\n",
       "5.73895135594 24.6550073215 0.834223016923 ... 10.4454241142 292.396666008\n",
       "5.73895135594 24.6550073215 0.834223016923 ... 10.4454241142 292.396666008\n",
       "5.73898076684 24.6547184498 0.832723016923 ... 10.4347872295 293.438470747\n",
       "5.67686207571 24.6318863173 0.836723016923 ... 10.4359038972 300.753743084"
      ]
     },
     "execution_count": 121,
     "metadata": {},
     "output_type": "execute_result"
    }
   ],
   "source": [
    "tab"
   ]
  },
  {
   "cell_type": "code",
   "execution_count": 123,
   "metadata": {
    "collapsed": true
   },
   "outputs": [],
   "source": [
    "tab.write('tab2.ecsv', format='ascii.ecsv')"
   ]
  }
 ],
 "metadata": {
  "kernelspec": {
   "display_name": "Python 2",
   "language": "python",
   "name": "python2"
  },
  "language_info": {
   "codemirror_mode": {
    "name": "ipython",
    "version": 2
   },
   "file_extension": ".py",
   "mimetype": "text/x-python",
   "name": "python",
   "nbconvert_exporter": "python",
   "pygments_lexer": "ipython2",
   "version": "2.7.10"
  }
 },
 "nbformat": 4,
 "nbformat_minor": 0
}
